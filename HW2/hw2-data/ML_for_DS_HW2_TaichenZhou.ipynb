{
 "cells": [
  {
   "cell_type": "code",
   "execution_count": 3,
   "metadata": {},
   "outputs": [],
   "source": [
    "import numpy as np\n",
    "import pandas as pd\n",
    "import matplotlib.pyplot as plt"
   ]
  },
  {
   "cell_type": "markdown",
   "metadata": {},
   "source": [
    "### Problem2"
   ]
  },
  {
   "cell_type": "code",
   "execution_count": 12,
   "metadata": {},
   "outputs": [
    {
     "name": "stdout",
     "output_type": "stream",
     "text": [
      "Shape of X:  (4600, 54)\n",
      "Shape of y:  (4600, 1)\n",
      "Shape of data:  (4600, 55)\n",
      "Distribution of label: \n",
      " 0    2787\n",
      "1    1813\n",
      "dtype: int64\n"
     ]
    }
   ],
   "source": [
    "X = pd.read_csv('Bayes_classifier/X.csv', header=None)\n",
    "y = pd.read_csv('Bayes_classifier/y.csv', header=None)\n",
    "data_nb = pd.concat([X, y], axis=1)\n",
    "print(\"Shape of X: \", X.shape)\n",
    "print(\"Shape of y: \", y.shape)\n",
    "print(\"Shape of data: \", data_nb.shape)\n",
    "print(\"Distribution of label: \\n\", y.value_counts())"
   ]
  },
  {
   "cell_type": "code",
   "execution_count": 35,
   "metadata": {},
   "outputs": [],
   "source": [
    "### Shffule Dataframe\n",
    "data_temp = data_nb.sample(frac=1, random_state=42).reset_index()\n",
    "### Partition Data\n",
    "data_cv = np.array_split(data_temp, 10)"
   ]
  },
  {
   "cell_type": "code",
   "execution_count": null,
   "metadata": {},
   "outputs": [],
   "source": [
    "class rr:\n",
    "    def __init__(self, lambda_1) -> None:\n",
    "        self.lambda_1 = lambda_1\n",
    "    \n",
    "\n",
    "    def fit(self, X, y):\n",
    "        self.n, self.m = X.shape\n",
    "        self.U, S, self.Vh = np.linalg.svd(X, full_matrices=False)\n",
    "        self.V = self.Vh.T\n",
    "        self.S = S/(S**2+self.lambda_1)\n",
    "        self.S_lamda = np.diag(self.S)\n",
    "        self.W = self.V.dot(self.S_lamda).dot(self.U.T).dot(y)\n",
    "    \n",
    "    def predict(self, X):\n",
    "        return X.dot(self.W)\n",
    "    \n",
    "    def get_weight(self):\n",
    "        return self.W\n",
    "    \n",
    "    def get_df(self):\n",
    "        return sum(sum(self.S_lamda))"
   ]
  },
  {
   "cell_type": "code",
   "execution_count": 40,
   "metadata": {},
   "outputs": [
    {
     "data": {
      "text/plain": [
       "numpy.int64"
      ]
     },
     "execution_count": 40,
     "metadata": {},
     "output_type": "execute_result"
    }
   ],
   "source": [
    "type(y.sum()[0])"
   ]
  },
  {
   "cell_type": "code",
   "execution_count": null,
   "metadata": {},
   "outputs": [],
   "source": [
    "class Naive_Bayers:\n",
    "    def __init__(self) -> None:\n",
    "        None\n",
    "\n",
    "    def fit(self, X, y):\n",
    "        self.n, self.m = X.shape\n",
    "        self.pi = y.sum()[0]/y.shape[0]\n",
    "        self.lambda_0 = (2/(X[y==0].sum(axis=0) + 1)).unsqueeze(-1)\n",
    "        self.lambda_1 = 2/(X[y==1].sum(axis=0) + 1).unsqueeze(-1)\n",
    "    \n",
    "    def predict(self, X):\n",
    "        p0 = np.log(1-self.pi) + np.sum(X.dot(np.log(self.lamda0))) - np.sum(self.lambda_0)\n",
    "        p1 = np.log(self.pi) + np.sum(X.dot(np.log(self.lamda1))) - np.sum(self.lambda_1)\n",
    "        return 0 if p0 > p1 else 1"
   ]
  },
  {
   "cell_type": "code",
   "execution_count": null,
   "metadata": {},
   "outputs": [],
   "source": []
  }
 ],
 "metadata": {
  "kernelspec": {
   "display_name": "Python 3.8.5 64-bit",
   "language": "python",
   "name": "python3"
  },
  "language_info": {
   "codemirror_mode": {
    "name": "ipython",
    "version": 3
   },
   "file_extension": ".py",
   "mimetype": "text/x-python",
   "name": "python",
   "nbconvert_exporter": "python",
   "pygments_lexer": "ipython3",
   "version": "3.8.5"
  },
  "orig_nbformat": 4,
  "vscode": {
   "interpreter": {
    "hash": "aee8b7b246df8f9039afb4144a1f6fd8d2ca17a180786b69acc140d282b71a49"
   }
  }
 },
 "nbformat": 4,
 "nbformat_minor": 2
}
