{
 "cells": [
  {
   "cell_type": "code",
   "execution_count": 80,
   "metadata": {},
   "outputs": [],
   "source": [
    "import numpy as np\n",
    "import pandas as pd\n",
    "import matplotlib.pyplot as plt"
   ]
  },
  {
   "cell_type": "markdown",
   "metadata": {},
   "source": [
    "### Problem2"
   ]
  },
  {
   "cell_type": "code",
   "execution_count": 81,
   "metadata": {},
   "outputs": [
    {
     "name": "stdout",
     "output_type": "stream",
     "text": [
      "Shape of X:  (4600, 54)\n",
      "Shape of y:  (4600, 1)\n",
      "Shape of data:  (4600, 55)\n",
      "Distribution of label: \n",
      " target\n",
      "0         2787\n",
      "1         1813\n",
      "dtype: int64\n"
     ]
    }
   ],
   "source": [
    "X = pd.read_csv('Bayes_classifier/X.csv', header=None)\n",
    "y = pd.read_csv('Bayes_classifier/y.csv', header=None)\n",
    "y.columns = ['target']\n",
    "data_nb = pd.concat([X, y], axis=1)\n",
    "print(\"Shape of X: \", X.shape)\n",
    "print(\"Shape of y: \", y.shape)\n",
    "print(\"Shape of data: \", data_nb.shape)\n",
    "print(\"Distribution of label: \\n\", y.value_counts())"
   ]
  },
  {
   "cell_type": "code",
   "execution_count": 86,
   "metadata": {},
   "outputs": [],
   "source": [
    "### Shffule Dataframe\n",
    "data_temp = data_nb.sample(frac=1, random_state=42).reset_index().iloc[:,1:]\n",
    "### Partition Data\n",
    "data_cv = np.array_split(data_temp, 10)"
   ]
  },
  {
   "cell_type": "code",
   "execution_count": 321,
   "metadata": {},
   "outputs": [],
   "source": [
    "class Naive_Bayers:\n",
    "    def __init__(self) -> None:\n",
    "        None\n",
    "\n",
    "    def fit(self, X, y):\n",
    "        self.n, self.m = X.shape\n",
    "        self.pi = y.sum()/y.shape[0]\n",
    "        self.lambda_0 = (1 + X[y == 0].sum(axis = 0))/(1 + y.shape[0] - y.sum())\n",
    "        self.lambda_0 = self.lambda_0\n",
    "        self.lambda_1 = (1 + X[y == 1].sum(axis = 0))/(1 + y.sum())\n",
    "        self.lambda_1 = self.lambda_1\n",
    "    \n",
    "    def predict(self, X):\n",
    "        # print('X: ', X.shape)\n",
    "        # print('lambda0: ', self.lambda_0.shape)\n",
    "        # print(np.sum(X*np.log(self.lambda_1.T), axis=1))\n",
    "\n",
    "        p0 = (np.log(1-self.pi) + np.sum(X*np.log(self.lambda_0.T), axis=1) - np.sum(self.lambda_0)).reset_index(drop=True)\n",
    "        p1 = (np.log(self.pi) + np.sum(X*np.log(self.lambda_1.T), axis=1) - np.sum(self.lambda_1)).reset_index(drop=True)\n",
    "        result = pd.Series([0 if p0[i] > p1[i] else 1 for i in range(len(p0))])\n",
    "        return result\n",
    "    \n",
    "    def confusion_matrix(self, y_true, y_predict):\n",
    "        y_true = y_true.reset_index(drop=True)\n",
    "        y_TP = ((y_true == 1) & (y_predict == 1)).sum()\n",
    "\n",
    "        y_TN = ((y_true == 0) & (y_predict == 0)).sum()\n",
    "        y_FP = ((y_true == 0) & (y_predict == 1)).sum()\n",
    "        y_FN = ((y_true == 1) & (y_predict == 0)).sum()\n",
    "        return y_TP, y_TN, y_FP, y_FN"
   ]
  },
  {
   "cell_type": "code",
   "execution_count": 324,
   "metadata": {},
   "outputs": [
    {
     "name": "stdout",
     "output_type": "stream",
     "text": [
      "-------------------------------------\n",
      "               Actual 1      Actual 0  \n",
      " Predicted 1     1714            490 \n",
      " Predicted 0      99             2297 \n",
      "-------------------------------------\n"
     ]
    }
   ],
   "source": [
    "y_TP, y_TN, y_FP, y_FN = 0, 0, 0, 0\n",
    "for i in range(10):\n",
    "    X_train = pd.concat(data_cv[:i]+data_cv[i+1:10]).iloc[:,:-1]\n",
    "    y_train = pd.concat(data_cv[:i]+data_cv[i+1:10]).iloc[:,-1]\n",
    "    X_test = data_cv[i].iloc[:,:-1]\n",
    "    y_test = data_cv[i].iloc[:,-1]\n",
    "    nb_model = Naive_Bayers()\n",
    "    nb_model.fit(X_train, y_train)\n",
    "    predicted_result = nb_model.predict(X_test)\n",
    "    TP, TN, FP, FN = nb_model.confusion_matrix(y_test, predicted_result)\n",
    "    y_TP += TP\n",
    "    y_TN += TN\n",
    "    y_FP += FP\n",
    "    y_FN += FN\n",
    "\n",
    "print('-------------------------------------\\n'\n",
    "      ,'              Actual 1   '+'   Actual 0  \\n'\n",
    "      ,'Predicted 1     {0}            {1} \\n Predicted 0      {2}             {3} \\n-------------------------------------'\n",
    "      .format(y_TP, y_FP, y_FN, y_TN ))\n"
   ]
  },
  {
   "cell_type": "code",
   "execution_count": null,
   "metadata": {},
   "outputs": [],
   "source": []
  }
 ],
 "metadata": {
  "kernelspec": {
   "display_name": "Python 3.8.5 64-bit",
   "language": "python",
   "name": "python3"
  },
  "language_info": {
   "codemirror_mode": {
    "name": "ipython",
    "version": 3
   },
   "file_extension": ".py",
   "mimetype": "text/x-python",
   "name": "python",
   "nbconvert_exporter": "python",
   "pygments_lexer": "ipython3",
   "version": "3.9.10"
  },
  "orig_nbformat": 4,
  "vscode": {
   "interpreter": {
    "hash": "aee8b7b246df8f9039afb4144a1f6fd8d2ca17a180786b69acc140d282b71a49"
   }
  }
 },
 "nbformat": 4,
 "nbformat_minor": 2
}
