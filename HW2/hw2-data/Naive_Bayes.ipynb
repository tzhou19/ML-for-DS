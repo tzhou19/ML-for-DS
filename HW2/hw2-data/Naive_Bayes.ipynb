{
 "cells": [
  {
   "cell_type": "code",
   "execution_count": 1,
   "metadata": {},
   "outputs": [],
   "source": [
    "import numpy as np\n",
    "import pandas as pd\n",
    "import matplotlib.pyplot as plt\n",
    "import math\n"
   ]
  },
  {
   "cell_type": "markdown",
   "metadata": {},
   "source": [
    "# Problem 2"
   ]
  },
  {
   "cell_type": "code",
   "execution_count": 2,
   "metadata": {},
   "outputs": [],
   "source": [
    "X = pd.read_csv('hw2-data/Bayes_classifier/X.csv', header=None)\n",
    "y = pd.read_csv('hw2-data/Bayes_classifier/y.csv', header=None)\n",
    "X.columns = ['make', 'address','all','3d','our','over',\n",
    "             'remove','internet','order','mail','receive',\n",
    "             'will','people','report','addresses','free','business',\n",
    "             'email','you','credit','your','font','000',\n",
    "             'money','hp','hpl','george','650','lab',\n",
    "             'labs','telnet','857','data','415','85',\n",
    "             'technology','1999','parts','pm','direct','cs',\n",
    "             'meeting','original','project','re','edu','table',\n",
    "             'conference',';','(','[','!','$','#']\n",
    "y.columns = ['label']"
   ]
  },
  {
   "cell_type": "code",
   "execution_count": 3,
   "metadata": {},
   "outputs": [
    {
     "name": "stdout",
     "output_type": "stream",
     "text": [
      "<class 'pandas.core.frame.DataFrame'>\n",
      "RangeIndex: 4600 entries, 0 to 4599\n",
      "Data columns (total 54 columns):\n",
      " #   Column      Non-Null Count  Dtype\n",
      "---  ------      --------------  -----\n",
      " 0   make        4600 non-null   int64\n",
      " 1   address     4600 non-null   int64\n",
      " 2   all         4600 non-null   int64\n",
      " 3   3d          4600 non-null   int64\n",
      " 4   our         4600 non-null   int64\n",
      " 5   over        4600 non-null   int64\n",
      " 6   remove      4600 non-null   int64\n",
      " 7   internet    4600 non-null   int64\n",
      " 8   order       4600 non-null   int64\n",
      " 9   mail        4600 non-null   int64\n",
      " 10  receive     4600 non-null   int64\n",
      " 11  will        4600 non-null   int64\n",
      " 12  people      4600 non-null   int64\n",
      " 13  report      4600 non-null   int64\n",
      " 14  addresses   4600 non-null   int64\n",
      " 15  free        4600 non-null   int64\n",
      " 16  business    4600 non-null   int64\n",
      " 17  email       4600 non-null   int64\n",
      " 18  you         4600 non-null   int64\n",
      " 19  credit      4600 non-null   int64\n",
      " 20  your        4600 non-null   int64\n",
      " 21  font        4600 non-null   int64\n",
      " 22  000         4600 non-null   int64\n",
      " 23  money       4600 non-null   int64\n",
      " 24  hp          4600 non-null   int64\n",
      " 25  hpl         4600 non-null   int64\n",
      " 26  george      4600 non-null   int64\n",
      " 27  650         4600 non-null   int64\n",
      " 28  lab         4600 non-null   int64\n",
      " 29  labs        4600 non-null   int64\n",
      " 30  telnet      4600 non-null   int64\n",
      " 31  857         4600 non-null   int64\n",
      " 32  data        4600 non-null   int64\n",
      " 33  415         4600 non-null   int64\n",
      " 34  85          4600 non-null   int64\n",
      " 35  technology  4600 non-null   int64\n",
      " 36  1999        4600 non-null   int64\n",
      " 37  parts       4600 non-null   int64\n",
      " 38  pm          4600 non-null   int64\n",
      " 39  direct      4600 non-null   int64\n",
      " 40  cs          4600 non-null   int64\n",
      " 41  meeting     4600 non-null   int64\n",
      " 42  original    4600 non-null   int64\n",
      " 43  project     4600 non-null   int64\n",
      " 44  re          4600 non-null   int64\n",
      " 45  edu         4600 non-null   int64\n",
      " 46  table       4600 non-null   int64\n",
      " 47  conference  4600 non-null   int64\n",
      " 48  ;           4600 non-null   int64\n",
      " 49  (           4600 non-null   int64\n",
      " 50  [           4600 non-null   int64\n",
      " 51  !           4600 non-null   int64\n",
      " 52  $           4600 non-null   int64\n",
      " 53  #           4600 non-null   int64\n",
      "dtypes: int64(54)\n",
      "memory usage: 1.9 MB\n"
     ]
    }
   ],
   "source": [
    "X.info()"
   ]
  },
  {
   "cell_type": "code",
   "execution_count": 4,
   "metadata": {},
   "outputs": [
    {
     "data": {
      "text/plain": [
       "label\n",
       "0        2787\n",
       "1        1813\n",
       "dtype: int64"
      ]
     },
     "execution_count": 4,
     "metadata": {},
     "output_type": "execute_result"
    }
   ],
   "source": [
    "y.value_counts()"
   ]
  },
  {
   "cell_type": "code",
   "execution_count": 5,
   "metadata": {},
   "outputs": [
    {
     "data": {
      "text/plain": [
       "(4600, 55)"
      ]
     },
     "execution_count": 5,
     "metadata": {},
     "output_type": "execute_result"
    }
   ],
   "source": [
    "data = pd.concat([X, y], axis=1)\n",
    "data.shape"
   ]
  },
  {
   "cell_type": "code",
   "execution_count": 6,
   "metadata": {},
   "outputs": [],
   "source": [
    "# randomize the data\n",
    "data = data.sample(frac=1,random_state=42).reset_index(drop=True)"
   ]
  },
  {
   "cell_type": "code",
   "execution_count": 7,
   "metadata": {},
   "outputs": [
    {
     "data": {
      "text/plain": [
       "(4600, 55)"
      ]
     },
     "execution_count": 7,
     "metadata": {},
     "output_type": "execute_result"
    }
   ],
   "source": [
    "data.shape"
   ]
  },
  {
   "cell_type": "code",
   "execution_count": 8,
   "metadata": {},
   "outputs": [],
   "source": [
    "# split data into 10 groups\n",
    "data_split = np.array_split(data, 10)"
   ]
  },
  {
   "cell_type": "code",
   "execution_count": 9,
   "metadata": {},
   "outputs": [
    {
     "data": {
      "text/plain": [
       "10"
      ]
     },
     "execution_count": 9,
     "metadata": {},
     "output_type": "execute_result"
    }
   ],
   "source": [
    "len(data_split)"
   ]
  },
  {
   "cell_type": "code",
   "execution_count": 10,
   "metadata": {},
   "outputs": [
    {
     "name": "stdout",
     "output_type": "stream",
     "text": [
      "(460, 55)\n",
      "(460, 55)\n",
      "(460, 55)\n",
      "(460, 55)\n",
      "(460, 55)\n",
      "(460, 55)\n",
      "(460, 55)\n",
      "(460, 55)\n",
      "(460, 55)\n",
      "(460, 55)\n"
     ]
    }
   ],
   "source": [
    "for i in range(10):\n",
    "    print(data_split[i].shape)"
   ]
  },
  {
   "cell_type": "code",
   "execution_count": 11,
   "metadata": {},
   "outputs": [
    {
     "data": {
      "text/html": [
       "<div>\n",
       "<style scoped>\n",
       "    .dataframe tbody tr th:only-of-type {\n",
       "        vertical-align: middle;\n",
       "    }\n",
       "\n",
       "    .dataframe tbody tr th {\n",
       "        vertical-align: top;\n",
       "    }\n",
       "\n",
       "    .dataframe thead th {\n",
       "        text-align: right;\n",
       "    }\n",
       "</style>\n",
       "<table border=\"1\" class=\"dataframe\">\n",
       "  <thead>\n",
       "    <tr style=\"text-align: right;\">\n",
       "      <th></th>\n",
       "      <th>make</th>\n",
       "      <th>address</th>\n",
       "      <th>all</th>\n",
       "      <th>3d</th>\n",
       "      <th>our</th>\n",
       "      <th>over</th>\n",
       "      <th>remove</th>\n",
       "      <th>internet</th>\n",
       "      <th>order</th>\n",
       "      <th>mail</th>\n",
       "      <th>...</th>\n",
       "      <th>edu</th>\n",
       "      <th>table</th>\n",
       "      <th>conference</th>\n",
       "      <th>;</th>\n",
       "      <th>(</th>\n",
       "      <th>[</th>\n",
       "      <th>!</th>\n",
       "      <th>$</th>\n",
       "      <th>#</th>\n",
       "      <th>label</th>\n",
       "    </tr>\n",
       "  </thead>\n",
       "  <tbody>\n",
       "    <tr>\n",
       "      <th>0</th>\n",
       "      <td>0</td>\n",
       "      <td>0</td>\n",
       "      <td>0</td>\n",
       "      <td>0</td>\n",
       "      <td>0</td>\n",
       "      <td>0</td>\n",
       "      <td>0</td>\n",
       "      <td>0</td>\n",
       "      <td>0</td>\n",
       "      <td>0</td>\n",
       "      <td>...</td>\n",
       "      <td>0</td>\n",
       "      <td>0</td>\n",
       "      <td>0</td>\n",
       "      <td>0</td>\n",
       "      <td>0</td>\n",
       "      <td>0</td>\n",
       "      <td>0</td>\n",
       "      <td>0</td>\n",
       "      <td>0</td>\n",
       "      <td>0</td>\n",
       "    </tr>\n",
       "    <tr>\n",
       "      <th>1</th>\n",
       "      <td>0</td>\n",
       "      <td>0</td>\n",
       "      <td>0</td>\n",
       "      <td>0</td>\n",
       "      <td>0</td>\n",
       "      <td>0</td>\n",
       "      <td>0</td>\n",
       "      <td>0</td>\n",
       "      <td>0</td>\n",
       "      <td>7</td>\n",
       "      <td>...</td>\n",
       "      <td>45</td>\n",
       "      <td>0</td>\n",
       "      <td>0</td>\n",
       "      <td>0</td>\n",
       "      <td>1</td>\n",
       "      <td>0</td>\n",
       "      <td>0</td>\n",
       "      <td>0</td>\n",
       "      <td>0</td>\n",
       "      <td>0</td>\n",
       "    </tr>\n",
       "    <tr>\n",
       "      <th>2</th>\n",
       "      <td>0</td>\n",
       "      <td>0</td>\n",
       "      <td>9</td>\n",
       "      <td>0</td>\n",
       "      <td>0</td>\n",
       "      <td>0</td>\n",
       "      <td>0</td>\n",
       "      <td>5</td>\n",
       "      <td>0</td>\n",
       "      <td>0</td>\n",
       "      <td>...</td>\n",
       "      <td>0</td>\n",
       "      <td>0</td>\n",
       "      <td>0</td>\n",
       "      <td>0</td>\n",
       "      <td>0</td>\n",
       "      <td>0</td>\n",
       "      <td>0</td>\n",
       "      <td>0</td>\n",
       "      <td>0</td>\n",
       "      <td>0</td>\n",
       "    </tr>\n",
       "    <tr>\n",
       "      <th>3</th>\n",
       "      <td>0</td>\n",
       "      <td>0</td>\n",
       "      <td>0</td>\n",
       "      <td>0</td>\n",
       "      <td>0</td>\n",
       "      <td>0</td>\n",
       "      <td>0</td>\n",
       "      <td>0</td>\n",
       "      <td>0</td>\n",
       "      <td>0</td>\n",
       "      <td>...</td>\n",
       "      <td>0</td>\n",
       "      <td>0</td>\n",
       "      <td>0</td>\n",
       "      <td>0</td>\n",
       "      <td>2</td>\n",
       "      <td>0</td>\n",
       "      <td>0</td>\n",
       "      <td>1</td>\n",
       "      <td>0</td>\n",
       "      <td>1</td>\n",
       "    </tr>\n",
       "    <tr>\n",
       "      <th>4</th>\n",
       "      <td>0</td>\n",
       "      <td>0</td>\n",
       "      <td>5</td>\n",
       "      <td>0</td>\n",
       "      <td>0</td>\n",
       "      <td>0</td>\n",
       "      <td>0</td>\n",
       "      <td>0</td>\n",
       "      <td>0</td>\n",
       "      <td>0</td>\n",
       "      <td>...</td>\n",
       "      <td>3</td>\n",
       "      <td>0</td>\n",
       "      <td>0</td>\n",
       "      <td>0</td>\n",
       "      <td>2</td>\n",
       "      <td>0</td>\n",
       "      <td>0</td>\n",
       "      <td>0</td>\n",
       "      <td>0</td>\n",
       "      <td>0</td>\n",
       "    </tr>\n",
       "  </tbody>\n",
       "</table>\n",
       "<p>5 rows × 55 columns</p>\n",
       "</div>"
      ],
      "text/plain": [
       "   make  address  all  3d  our  over  remove  internet  order  mail  ...  edu  \\\n",
       "0     0        0    0   0    0     0       0         0      0     0  ...    0   \n",
       "1     0        0    0   0    0     0       0         0      0     7  ...   45   \n",
       "2     0        0    9   0    0     0       0         5      0     0  ...    0   \n",
       "3     0        0    0   0    0     0       0         0      0     0  ...    0   \n",
       "4     0        0    5   0    0     0       0         0      0     0  ...    3   \n",
       "\n",
       "   table  conference  ;  (  [  !  $  #  label  \n",
       "0      0           0  0  0  0  0  0  0      0  \n",
       "1      0           0  0  1  0  0  0  0      0  \n",
       "2      0           0  0  0  0  0  0  0      0  \n",
       "3      0           0  0  2  0  0  1  0      1  \n",
       "4      0           0  0  2  0  0  0  0      0  \n",
       "\n",
       "[5 rows x 55 columns]"
      ]
     },
     "execution_count": 11,
     "metadata": {},
     "output_type": "execute_result"
    }
   ],
   "source": [
    "data_split[0].head()"
   ]
  },
  {
   "attachments": {},
   "cell_type": "markdown",
   "metadata": {},
   "source": [
    "## Problem 2.a"
   ]
  },
  {
   "cell_type": "code",
   "execution_count": 12,
   "metadata": {},
   "outputs": [],
   "source": [
    "class Naive_Bayes:\n",
    "    def __init__(self):\n",
    "        self.pi = None\n",
    "        self.lamda = []\n",
    "    \n",
    "    def fit(self, X, y):\n",
    "        self.pi = y.sum() / y.shape[0]\n",
    "        for i in range(2):\n",
    "            self.lamda.append((X[y==i].sum() + 1) / ((y==i).sum() + 1))\n",
    "    \n",
    "    def predict(self, X):\n",
    "        prob0 = np.log(1-self.pi) + np.sum(X * np.log(self.lamda[0].T), axis=1) - np.sum(self.lamda[0])\n",
    "        prob1 = np.log(self.pi) + np.sum(X * np.log(self.lamda[1].T), axis=1) - np.sum(self.lamda[1])\n",
    "        result = np.zeros(X.shape[0])\n",
    "        result[prob1 > prob0] = 1\n",
    "        return result\n",
    "    \n",
    "    def confusion_matrix(self, y_true, y_pred):\n",
    "        TP = ((y_true == 1) & (y_pred == 1)).sum()\n",
    "        TN = ((y_true == 0) & (y_pred == 0)).sum()\n",
    "        FP = ((y_true == 0) & (y_pred == 1)).sum()\n",
    "        FN = ((y_true == 1) & (y_pred == 0)).sum()\n",
    "        return TP, TN, FP, FN\n",
    "        \n",
    "        "
   ]
  },
  {
   "cell_type": "code",
   "execution_count": 13,
   "metadata": {},
   "outputs": [
    {
     "name": "stdout",
     "output_type": "stream",
     "text": [
      "          Predicted 0  Predicted 1\n",
      "Actual 0         2297          490\n",
      "Actual 1           99         1714\n",
      "Prediction Accuracy:  0.8719565217391304\n"
     ]
    }
   ],
   "source": [
    "# run cross validation\n",
    "TP, TN, FP, FN = 0, 0, 0, 0\n",
    "lambda0 = []\n",
    "lambda1 = []\n",
    "for i in range(10):\n",
    "    X_train = pd.concat(data_split[:i] + data_split[i+1:]).iloc[:, :-1]\n",
    "    y_train = pd.concat(data_split[:i] + data_split[i+1:]).iloc[:, -1]\n",
    "    X_test = data_split[i].iloc[:, :-1].reset_index(drop=True)\n",
    "    y_test = data_split[i].iloc[:, -1].reset_index(drop=True)\n",
    "    model = Naive_Bayes()\n",
    "    model.fit(X_train, y_train)\n",
    "    y_pred = model.predict(X_test)\n",
    "    _TP,_TN,_FP,_FN = model.confusion_matrix(y_test, y_pred)\n",
    "    lambda0.append(model.lamda[0])\n",
    "    lambda1.append(model.lamda[1])\n",
    "    \n",
    "    TP += _TP\n",
    "    TN += _TN\n",
    "    FP += _FP\n",
    "    FN += _FN\n",
    "    \n",
    "    \n",
    "TOTAL = TP + TN + FP + FN\n",
    "cm = pd.DataFrame([[TN, FP],[FN, TP]], columns=['Predicted 0', 'Predicted 1'], index=['Actual 0', 'Actual 1'])\n",
    "print(cm)\n",
    "print('Prediction Accuracy: ', (TP + TN)/TOTAL)\n"
   ]
  },
  {
   "attachments": {},
   "cell_type": "markdown",
   "metadata": {},
   "source": [
    "## Problem 2.b"
   ]
  },
  {
   "cell_type": "code",
   "execution_count": 14,
   "metadata": {},
   "outputs": [],
   "source": [
    "# calculate the average of lambda\n",
    "lambda0 = np.array(lambda0)\n",
    "lambda1 = np.array(lambda1)"
   ]
  },
  {
   "cell_type": "code",
   "execution_count": 15,
   "metadata": {},
   "outputs": [
    {
     "data": {
      "text/plain": [
       "(10, 54)"
      ]
     },
     "execution_count": 15,
     "metadata": {},
     "output_type": "execute_result"
    }
   ],
   "source": [
    "lambda0.shape"
   ]
  },
  {
   "cell_type": "code",
   "execution_count": 16,
   "metadata": {},
   "outputs": [
    {
     "data": {
      "text/plain": [
       "(10, 54)"
      ]
     },
     "execution_count": 16,
     "metadata": {},
     "output_type": "execute_result"
    }
   ],
   "source": [
    "lambda1.shape"
   ]
  },
  {
   "cell_type": "code",
   "execution_count": 17,
   "metadata": {},
   "outputs": [],
   "source": [
    "avg_lamnda0 = lambda0.mean(axis=0)\n",
    "avg_lamnda1 = lambda1.mean(axis=0)"
   ]
  },
  {
   "cell_type": "code",
   "execution_count": 18,
   "metadata": {},
   "outputs": [
    {
     "name": "stdout",
     "output_type": "stream",
     "text": [
      "Index(['make', 'address', 'all', '3d', 'our', 'over', 'remove', 'internet',\n",
      "       'order', 'mail', 'receive', 'will', 'people', 'report', 'addresses',\n",
      "       'free', 'business', 'email', 'you', 'credit', 'your', 'font', '000',\n",
      "       'money', 'hp', 'hpl', 'george', '650', 'lab', 'labs', 'telnet', '857',\n",
      "       'data', '415', '85', 'technology', '1999', 'parts', 'pm', 'direct',\n",
      "       'cs', 'meeting', 'original', 'project', 're', 'edu', 'table',\n",
      "       'conference', ';', '(', '[', '!', '$', '#'],\n",
      "      dtype='object')\n"
     ]
    }
   ],
   "source": [
    "print(model.lamda[0].index)"
   ]
  },
  {
   "cell_type": "code",
   "execution_count": 19,
   "metadata": {},
   "outputs": [
    {
     "data": {
      "image/png": "[encoded data removed]",
      "text/plain": [
       "<Figure size 2000x1000 with 1 Axes>"
      ]
     },
     "metadata": {},
     "output_type": "display_data"
    }
   ],
   "source": [
    "# plot stem plot\n",
    "fig = plt.figure(figsize=(20, 10))\n",
    "plt.stem(model.lamda[0].index,avg_lamnda0, label='Class 0', markerfmt='ro')\n",
    "plt.stem(model.lamda[1].index ,avg_lamnda1, label='Class 1', markerfmt='bo')\n",
    "plt.xticks(rotation = 45)\n",
    "plt.ylabel('lambda')\n",
    "plt.xlabel('feature')\n",
    "plt.legend()\n",
    "plt.show()"
   ]
  },
  {
   "cell_type": "code",
   "execution_count": 20,
   "metadata": {},
   "outputs": [
    {
     "name": "stdout",
     "output_type": "stream",
     "text": [
      "Feature 16:  free , Class 0 Average:  0.7395760282588606 , Class 1 Average:  5.214005750110287\n",
      "Feature 52:  ! , Class 0 Average:  1.0961513031345622 Class 1 Average:  5.128924515960302\n"
     ]
    }
   ],
   "source": [
    "# feature 16\n",
    "print('Feature 16: ', model.lamda[0].index[15],', Class 0 Average: ' ,avg_lamnda0[15],', Class 1 Average: ' , avg_lamnda1[15])\n",
    "\n",
    "# feature 52\n",
    "print('Feature 52: ', model.lamda[0].index[51],', Class 0 Average: ' ,avg_lamnda0[51],'Class 1 Average: ' , avg_lamnda1[51])"
   ]
  },
  {
   "attachments": {},
   "cell_type": "markdown",
   "metadata": {},
   "source": [
    "### For feature 16, the word 'free' has higher probability in spam emails than in ham emails.\n",
    "### For feature 52, the character '!' has higher probability in spam emails than in ham emails, but the difference is not as significant as the difference between 'free' and '!' in spam emails."
   ]
  },
  {
   "attachments": {},
   "cell_type": "markdown",
   "metadata": {},
   "source": [
    "## Problem 2.c"
   ]
  },
  {
   "cell_type": "code",
   "execution_count": 21,
   "metadata": {},
   "outputs": [],
   "source": [
    "X = pd.read_csv('hw2-data/Bayes_classifier/X.csv', header=None)\n",
    "y = pd.read_csv('hw2-data/Bayes_classifier/y.csv', header=None)\n",
    "X.columns = ['make', 'address','all','3d','our','over',\n",
    "             'remove','internet','order','mail','receive',\n",
    "             'will','people','report','addresses','free','business',\n",
    "             'email','you','credit','your','font','000',\n",
    "             'money','hp','hpl','george','650','lab',\n",
    "             'labs','telnet','857','data','415','85',\n",
    "             'technology','1999','parts','pm','direct','cs',\n",
    "             'meeting','original','project','re','edu','table',\n",
    "             'conference',';','(','[','!','$','#']\n",
    "y.columns = ['label']"
   ]
  },
  {
   "cell_type": "code",
   "execution_count": 22,
   "metadata": {},
   "outputs": [
    {
     "data": {
      "text/html": [
       "<div>\n",
       "<style scoped>\n",
       "    .dataframe tbody tr th:only-of-type {\n",
       "        vertical-align: middle;\n",
       "    }\n",
       "\n",
       "    .dataframe tbody tr th {\n",
       "        vertical-align: top;\n",
       "    }\n",
       "\n",
       "    .dataframe thead th {\n",
       "        text-align: right;\n",
       "    }\n",
       "</style>\n",
       "<table border=\"1\" class=\"dataframe\">\n",
       "  <thead>\n",
       "    <tr style=\"text-align: right;\">\n",
       "      <th></th>\n",
       "      <th>make</th>\n",
       "      <th>address</th>\n",
       "      <th>all</th>\n",
       "      <th>3d</th>\n",
       "      <th>our</th>\n",
       "      <th>over</th>\n",
       "      <th>remove</th>\n",
       "      <th>internet</th>\n",
       "      <th>order</th>\n",
       "      <th>mail</th>\n",
       "      <th>...</th>\n",
       "      <th>edu</th>\n",
       "      <th>table</th>\n",
       "      <th>conference</th>\n",
       "      <th>;</th>\n",
       "      <th>(</th>\n",
       "      <th>[</th>\n",
       "      <th>!</th>\n",
       "      <th>$</th>\n",
       "      <th>#</th>\n",
       "      <th>bias</th>\n",
       "    </tr>\n",
       "  </thead>\n",
       "  <tbody>\n",
       "    <tr>\n",
       "      <th>0</th>\n",
       "      <td>0</td>\n",
       "      <td>6</td>\n",
       "      <td>6</td>\n",
       "      <td>0</td>\n",
       "      <td>3</td>\n",
       "      <td>0</td>\n",
       "      <td>0</td>\n",
       "      <td>0</td>\n",
       "      <td>0</td>\n",
       "      <td>0</td>\n",
       "      <td>...</td>\n",
       "      <td>0</td>\n",
       "      <td>0</td>\n",
       "      <td>0</td>\n",
       "      <td>0</td>\n",
       "      <td>0</td>\n",
       "      <td>0</td>\n",
       "      <td>8</td>\n",
       "      <td>0</td>\n",
       "      <td>0</td>\n",
       "      <td>1.0</td>\n",
       "    </tr>\n",
       "    <tr>\n",
       "      <th>1</th>\n",
       "      <td>2</td>\n",
       "      <td>3</td>\n",
       "      <td>5</td>\n",
       "      <td>0</td>\n",
       "      <td>1</td>\n",
       "      <td>3</td>\n",
       "      <td>2</td>\n",
       "      <td>1</td>\n",
       "      <td>0</td>\n",
       "      <td>9</td>\n",
       "      <td>...</td>\n",
       "      <td>0</td>\n",
       "      <td>0</td>\n",
       "      <td>0</td>\n",
       "      <td>0</td>\n",
       "      <td>1</td>\n",
       "      <td>0</td>\n",
       "      <td>4</td>\n",
       "      <td>2</td>\n",
       "      <td>0</td>\n",
       "      <td>1.0</td>\n",
       "    </tr>\n",
       "    <tr>\n",
       "      <th>2</th>\n",
       "      <td>1</td>\n",
       "      <td>0</td>\n",
       "      <td>7</td>\n",
       "      <td>0</td>\n",
       "      <td>12</td>\n",
       "      <td>2</td>\n",
       "      <td>2</td>\n",
       "      <td>1</td>\n",
       "      <td>6</td>\n",
       "      <td>3</td>\n",
       "      <td>...</td>\n",
       "      <td>1</td>\n",
       "      <td>0</td>\n",
       "      <td>0</td>\n",
       "      <td>0</td>\n",
       "      <td>1</td>\n",
       "      <td>0</td>\n",
       "      <td>3</td>\n",
       "      <td>2</td>\n",
       "      <td>0</td>\n",
       "      <td>1.0</td>\n",
       "    </tr>\n",
       "    <tr>\n",
       "      <th>3</th>\n",
       "      <td>0</td>\n",
       "      <td>0</td>\n",
       "      <td>0</td>\n",
       "      <td>0</td>\n",
       "      <td>6</td>\n",
       "      <td>0</td>\n",
       "      <td>3</td>\n",
       "      <td>6</td>\n",
       "      <td>3</td>\n",
       "      <td>6</td>\n",
       "      <td>...</td>\n",
       "      <td>0</td>\n",
       "      <td>0</td>\n",
       "      <td>0</td>\n",
       "      <td>0</td>\n",
       "      <td>1</td>\n",
       "      <td>0</td>\n",
       "      <td>1</td>\n",
       "      <td>0</td>\n",
       "      <td>0</td>\n",
       "      <td>1.0</td>\n",
       "    </tr>\n",
       "    <tr>\n",
       "      <th>4</th>\n",
       "      <td>0</td>\n",
       "      <td>0</td>\n",
       "      <td>0</td>\n",
       "      <td>0</td>\n",
       "      <td>6</td>\n",
       "      <td>0</td>\n",
       "      <td>3</td>\n",
       "      <td>6</td>\n",
       "      <td>3</td>\n",
       "      <td>6</td>\n",
       "      <td>...</td>\n",
       "      <td>0</td>\n",
       "      <td>0</td>\n",
       "      <td>0</td>\n",
       "      <td>0</td>\n",
       "      <td>1</td>\n",
       "      <td>0</td>\n",
       "      <td>1</td>\n",
       "      <td>0</td>\n",
       "      <td>0</td>\n",
       "      <td>1.0</td>\n",
       "    </tr>\n",
       "  </tbody>\n",
       "</table>\n",
       "<p>5 rows × 55 columns</p>\n",
       "</div>"
      ],
      "text/plain": [
       "   make  address  all  3d  our  over  remove  internet  order  mail  ...  edu  \\\n",
       "0     0        6    6   0    3     0       0         0      0     0  ...    0   \n",
       "1     2        3    5   0    1     3       2         1      0     9  ...    0   \n",
       "2     1        0    7   0   12     2       2         1      6     3  ...    1   \n",
       "3     0        0    0   0    6     0       3         6      3     6  ...    0   \n",
       "4     0        0    0   0    6     0       3         6      3     6  ...    0   \n",
       "\n",
       "   table  conference  ;  (  [  !  $  #  bias  \n",
       "0      0           0  0  0  0  8  0  0   1.0  \n",
       "1      0           0  0  1  0  4  2  0   1.0  \n",
       "2      0           0  0  1  0  3  2  0   1.0  \n",
       "3      0           0  0  1  0  1  0  0   1.0  \n",
       "4      0           0  0  1  0  1  0  0   1.0  \n",
       "\n",
       "[5 rows x 55 columns]"
      ]
     },
     "execution_count": 22,
     "metadata": {},
     "output_type": "execute_result"
    }
   ],
   "source": [
    "# add bias feature in X\n",
    "X = pd.concat([X, pd.DataFrame(np.ones(X.shape[0]),columns=['bias'])], axis=1)\n",
    "X.head()"
   ]
  },
  {
   "cell_type": "code",
   "execution_count": 23,
   "metadata": {},
   "outputs": [
    {
     "name": "stdout",
     "output_type": "stream",
     "text": [
      "label\n",
      "-1       2787\n",
      " 1       1813\n",
      "dtype: int64\n"
     ]
    }
   ],
   "source": [
    "# y = {1, -1}\n",
    "y = y.replace(0, -1)\n",
    "print(y.value_counts())"
   ]
  },
  {
   "cell_type": "code",
   "execution_count": 24,
   "metadata": {},
   "outputs": [
    {
     "data": {
      "text/html": [
       "<div>\n",
       "<style scoped>\n",
       "    .dataframe tbody tr th:only-of-type {\n",
       "        vertical-align: middle;\n",
       "    }\n",
       "\n",
       "    .dataframe tbody tr th {\n",
       "        vertical-align: top;\n",
       "    }\n",
       "\n",
       "    .dataframe thead th {\n",
       "        text-align: right;\n",
       "    }\n",
       "</style>\n",
       "<table border=\"1\" class=\"dataframe\">\n",
       "  <thead>\n",
       "    <tr style=\"text-align: right;\">\n",
       "      <th></th>\n",
       "      <th>make</th>\n",
       "      <th>address</th>\n",
       "      <th>all</th>\n",
       "      <th>3d</th>\n",
       "      <th>our</th>\n",
       "      <th>over</th>\n",
       "      <th>remove</th>\n",
       "      <th>internet</th>\n",
       "      <th>order</th>\n",
       "      <th>mail</th>\n",
       "      <th>...</th>\n",
       "      <th>table</th>\n",
       "      <th>conference</th>\n",
       "      <th>;</th>\n",
       "      <th>(</th>\n",
       "      <th>[</th>\n",
       "      <th>!</th>\n",
       "      <th>$</th>\n",
       "      <th>#</th>\n",
       "      <th>bias</th>\n",
       "      <th>label</th>\n",
       "    </tr>\n",
       "  </thead>\n",
       "  <tbody>\n",
       "    <tr>\n",
       "      <th>0</th>\n",
       "      <td>0</td>\n",
       "      <td>0</td>\n",
       "      <td>0</td>\n",
       "      <td>0</td>\n",
       "      <td>0</td>\n",
       "      <td>0</td>\n",
       "      <td>0</td>\n",
       "      <td>0</td>\n",
       "      <td>0</td>\n",
       "      <td>0</td>\n",
       "      <td>...</td>\n",
       "      <td>0</td>\n",
       "      <td>0</td>\n",
       "      <td>0</td>\n",
       "      <td>0</td>\n",
       "      <td>0</td>\n",
       "      <td>0</td>\n",
       "      <td>0</td>\n",
       "      <td>0</td>\n",
       "      <td>1.0</td>\n",
       "      <td>-1</td>\n",
       "    </tr>\n",
       "    <tr>\n",
       "      <th>1</th>\n",
       "      <td>0</td>\n",
       "      <td>0</td>\n",
       "      <td>0</td>\n",
       "      <td>0</td>\n",
       "      <td>0</td>\n",
       "      <td>0</td>\n",
       "      <td>0</td>\n",
       "      <td>0</td>\n",
       "      <td>0</td>\n",
       "      <td>7</td>\n",
       "      <td>...</td>\n",
       "      <td>0</td>\n",
       "      <td>0</td>\n",
       "      <td>0</td>\n",
       "      <td>1</td>\n",
       "      <td>0</td>\n",
       "      <td>0</td>\n",
       "      <td>0</td>\n",
       "      <td>0</td>\n",
       "      <td>1.0</td>\n",
       "      <td>-1</td>\n",
       "    </tr>\n",
       "    <tr>\n",
       "      <th>2</th>\n",
       "      <td>0</td>\n",
       "      <td>0</td>\n",
       "      <td>9</td>\n",
       "      <td>0</td>\n",
       "      <td>0</td>\n",
       "      <td>0</td>\n",
       "      <td>0</td>\n",
       "      <td>5</td>\n",
       "      <td>0</td>\n",
       "      <td>0</td>\n",
       "      <td>...</td>\n",
       "      <td>0</td>\n",
       "      <td>0</td>\n",
       "      <td>0</td>\n",
       "      <td>0</td>\n",
       "      <td>0</td>\n",
       "      <td>0</td>\n",
       "      <td>0</td>\n",
       "      <td>0</td>\n",
       "      <td>1.0</td>\n",
       "      <td>-1</td>\n",
       "    </tr>\n",
       "    <tr>\n",
       "      <th>3</th>\n",
       "      <td>0</td>\n",
       "      <td>0</td>\n",
       "      <td>0</td>\n",
       "      <td>0</td>\n",
       "      <td>0</td>\n",
       "      <td>0</td>\n",
       "      <td>0</td>\n",
       "      <td>0</td>\n",
       "      <td>0</td>\n",
       "      <td>0</td>\n",
       "      <td>...</td>\n",
       "      <td>0</td>\n",
       "      <td>0</td>\n",
       "      <td>0</td>\n",
       "      <td>2</td>\n",
       "      <td>0</td>\n",
       "      <td>0</td>\n",
       "      <td>1</td>\n",
       "      <td>0</td>\n",
       "      <td>1.0</td>\n",
       "      <td>1</td>\n",
       "    </tr>\n",
       "    <tr>\n",
       "      <th>4</th>\n",
       "      <td>0</td>\n",
       "      <td>0</td>\n",
       "      <td>5</td>\n",
       "      <td>0</td>\n",
       "      <td>0</td>\n",
       "      <td>0</td>\n",
       "      <td>0</td>\n",
       "      <td>0</td>\n",
       "      <td>0</td>\n",
       "      <td>0</td>\n",
       "      <td>...</td>\n",
       "      <td>0</td>\n",
       "      <td>0</td>\n",
       "      <td>0</td>\n",
       "      <td>2</td>\n",
       "      <td>0</td>\n",
       "      <td>0</td>\n",
       "      <td>0</td>\n",
       "      <td>0</td>\n",
       "      <td>1.0</td>\n",
       "      <td>-1</td>\n",
       "    </tr>\n",
       "  </tbody>\n",
       "</table>\n",
       "<p>5 rows × 56 columns</p>\n",
       "</div>"
      ],
      "text/plain": [
       "   make  address  all  3d  our  over  remove  internet  order  mail  ...  \\\n",
       "0     0        0    0   0    0     0       0         0      0     0  ...   \n",
       "1     0        0    0   0    0     0       0         0      0     7  ...   \n",
       "2     0        0    9   0    0     0       0         5      0     0  ...   \n",
       "3     0        0    0   0    0     0       0         0      0     0  ...   \n",
       "4     0        0    5   0    0     0       0         0      0     0  ...   \n",
       "\n",
       "   table  conference  ;  (  [  !  $  #  bias  label  \n",
       "0      0           0  0  0  0  0  0  0   1.0     -1  \n",
       "1      0           0  0  1  0  0  0  0   1.0     -1  \n",
       "2      0           0  0  0  0  0  0  0   1.0     -1  \n",
       "3      0           0  0  2  0  0  1  0   1.0      1  \n",
       "4      0           0  0  2  0  0  0  0   1.0     -1  \n",
       "\n",
       "[5 rows x 56 columns]"
      ]
     },
     "execution_count": 24,
     "metadata": {},
     "output_type": "execute_result"
    }
   ],
   "source": [
    "data = pd.concat([X, y], axis=1)\n",
    "data = data.sample(frac=1,random_state=42).reset_index(drop=True)\n",
    "data.head()"
   ]
  },
  {
   "cell_type": "code",
   "execution_count": 25,
   "metadata": {},
   "outputs": [
    {
     "name": "stdout",
     "output_type": "stream",
     "text": [
      "(460, 56)\n",
      "(460, 56)\n",
      "(460, 56)\n",
      "(460, 56)\n",
      "(460, 56)\n",
      "(460, 56)\n",
      "(460, 56)\n",
      "(460, 56)\n",
      "(460, 56)\n",
      "(460, 56)\n"
     ]
    },
    {
     "data": {
      "text/html": [
       "<div>\n",
       "<style scoped>\n",
       "    .dataframe tbody tr th:only-of-type {\n",
       "        vertical-align: middle;\n",
       "    }\n",
       "\n",
       "    .dataframe tbody tr th {\n",
       "        vertical-align: top;\n",
       "    }\n",
       "\n",
       "    .dataframe thead th {\n",
       "        text-align: right;\n",
       "    }\n",
       "</style>\n",
       "<table border=\"1\" class=\"dataframe\">\n",
       "  <thead>\n",
       "    <tr style=\"text-align: right;\">\n",
       "      <th></th>\n",
       "      <th>make</th>\n",
       "      <th>address</th>\n",
       "      <th>all</th>\n",
       "      <th>3d</th>\n",
       "      <th>our</th>\n",
       "      <th>over</th>\n",
       "      <th>remove</th>\n",
       "      <th>internet</th>\n",
       "      <th>order</th>\n",
       "      <th>mail</th>\n",
       "      <th>...</th>\n",
       "      <th>table</th>\n",
       "      <th>conference</th>\n",
       "      <th>;</th>\n",
       "      <th>(</th>\n",
       "      <th>[</th>\n",
       "      <th>!</th>\n",
       "      <th>$</th>\n",
       "      <th>#</th>\n",
       "      <th>bias</th>\n",
       "      <th>label</th>\n",
       "    </tr>\n",
       "  </thead>\n",
       "  <tbody>\n",
       "    <tr>\n",
       "      <th>0</th>\n",
       "      <td>0</td>\n",
       "      <td>0</td>\n",
       "      <td>0</td>\n",
       "      <td>0</td>\n",
       "      <td>0</td>\n",
       "      <td>0</td>\n",
       "      <td>0</td>\n",
       "      <td>0</td>\n",
       "      <td>0</td>\n",
       "      <td>0</td>\n",
       "      <td>...</td>\n",
       "      <td>0</td>\n",
       "      <td>0</td>\n",
       "      <td>0</td>\n",
       "      <td>0</td>\n",
       "      <td>0</td>\n",
       "      <td>0</td>\n",
       "      <td>0</td>\n",
       "      <td>0</td>\n",
       "      <td>1.0</td>\n",
       "      <td>-1</td>\n",
       "    </tr>\n",
       "    <tr>\n",
       "      <th>1</th>\n",
       "      <td>0</td>\n",
       "      <td>0</td>\n",
       "      <td>0</td>\n",
       "      <td>0</td>\n",
       "      <td>0</td>\n",
       "      <td>0</td>\n",
       "      <td>0</td>\n",
       "      <td>0</td>\n",
       "      <td>0</td>\n",
       "      <td>7</td>\n",
       "      <td>...</td>\n",
       "      <td>0</td>\n",
       "      <td>0</td>\n",
       "      <td>0</td>\n",
       "      <td>1</td>\n",
       "      <td>0</td>\n",
       "      <td>0</td>\n",
       "      <td>0</td>\n",
       "      <td>0</td>\n",
       "      <td>1.0</td>\n",
       "      <td>-1</td>\n",
       "    </tr>\n",
       "    <tr>\n",
       "      <th>2</th>\n",
       "      <td>0</td>\n",
       "      <td>0</td>\n",
       "      <td>9</td>\n",
       "      <td>0</td>\n",
       "      <td>0</td>\n",
       "      <td>0</td>\n",
       "      <td>0</td>\n",
       "      <td>5</td>\n",
       "      <td>0</td>\n",
       "      <td>0</td>\n",
       "      <td>...</td>\n",
       "      <td>0</td>\n",
       "      <td>0</td>\n",
       "      <td>0</td>\n",
       "      <td>0</td>\n",
       "      <td>0</td>\n",
       "      <td>0</td>\n",
       "      <td>0</td>\n",
       "      <td>0</td>\n",
       "      <td>1.0</td>\n",
       "      <td>-1</td>\n",
       "    </tr>\n",
       "    <tr>\n",
       "      <th>3</th>\n",
       "      <td>0</td>\n",
       "      <td>0</td>\n",
       "      <td>0</td>\n",
       "      <td>0</td>\n",
       "      <td>0</td>\n",
       "      <td>0</td>\n",
       "      <td>0</td>\n",
       "      <td>0</td>\n",
       "      <td>0</td>\n",
       "      <td>0</td>\n",
       "      <td>...</td>\n",
       "      <td>0</td>\n",
       "      <td>0</td>\n",
       "      <td>0</td>\n",
       "      <td>2</td>\n",
       "      <td>0</td>\n",
       "      <td>0</td>\n",
       "      <td>1</td>\n",
       "      <td>0</td>\n",
       "      <td>1.0</td>\n",
       "      <td>1</td>\n",
       "    </tr>\n",
       "    <tr>\n",
       "      <th>4</th>\n",
       "      <td>0</td>\n",
       "      <td>0</td>\n",
       "      <td>5</td>\n",
       "      <td>0</td>\n",
       "      <td>0</td>\n",
       "      <td>0</td>\n",
       "      <td>0</td>\n",
       "      <td>0</td>\n",
       "      <td>0</td>\n",
       "      <td>0</td>\n",
       "      <td>...</td>\n",
       "      <td>0</td>\n",
       "      <td>0</td>\n",
       "      <td>0</td>\n",
       "      <td>2</td>\n",
       "      <td>0</td>\n",
       "      <td>0</td>\n",
       "      <td>0</td>\n",
       "      <td>0</td>\n",
       "      <td>1.0</td>\n",
       "      <td>-1</td>\n",
       "    </tr>\n",
       "  </tbody>\n",
       "</table>\n",
       "<p>5 rows × 56 columns</p>\n",
       "</div>"
      ],
      "text/plain": [
       "   make  address  all  3d  our  over  remove  internet  order  mail  ...  \\\n",
       "0     0        0    0   0    0     0       0         0      0     0  ...   \n",
       "1     0        0    0   0    0     0       0         0      0     7  ...   \n",
       "2     0        0    9   0    0     0       0         5      0     0  ...   \n",
       "3     0        0    0   0    0     0       0         0      0     0  ...   \n",
       "4     0        0    5   0    0     0       0         0      0     0  ...   \n",
       "\n",
       "   table  conference  ;  (  [  !  $  #  bias  label  \n",
       "0      0           0  0  0  0  0  0  0   1.0     -1  \n",
       "1      0           0  0  1  0  0  0  0   1.0     -1  \n",
       "2      0           0  0  0  0  0  0  0   1.0     -1  \n",
       "3      0           0  0  2  0  0  1  0   1.0      1  \n",
       "4      0           0  0  2  0  0  0  0   1.0     -1  \n",
       "\n",
       "[5 rows x 56 columns]"
      ]
     },
     "execution_count": 25,
     "metadata": {},
     "output_type": "execute_result"
    }
   ],
   "source": [
    "data_split = np.array_split(data, 10)\n",
    "for i in range(10):\n",
    "    print(data_split[i].shape)\n",
    "data_split[0].head()\n",
    "    "
   ]
  },
  {
   "cell_type": "code",
   "execution_count": 26,
   "metadata": {},
   "outputs": [],
   "source": [
    "class LogisticRegression:\n",
    "    def __init__(self, learning_rate=0.01, n_iters=1000):\n",
    "        self.lr = learning_rate\n",
    "        self.n_iters = n_iters\n",
    "        self.weights = None\n",
    "    \n",
    "    def sigmoid(self,z):\n",
    "        return 1 / (1 + np.exp(-z))\n",
    "    \n",
    "    def likelihood(self, X, y):\n",
    "        h = self.sigmoid(y * np.dot(X, self.weights))\n",
    "        return np.sum(np.log(h))\n",
    "    \n",
    "    def steepest_ascent(self, X, y):\n",
    "        m = X.shape[0]\n",
    "        likelihood_history = []\n",
    "        \n",
    "        for i in range(self.n_iters):\n",
    "            gradient = X.T @ (y * (1- self.sigmoid(y * (X @ self.weights))))\n",
    "            self.weights += self.lr * gradient\n",
    "            likelihood_history.append(self.likelihood(X, y))\n",
    "            #print('Iteration: ', i, 'Likelihood: ', likelihood_history[-1])\n",
    "        return likelihood_history\n",
    "    \n",
    "    def newtown_method(self, X, y):\n",
    "        m = X.shape[0]\n",
    "        likelihood_history = []\n",
    "        \n",
    "        for i in range(self.n_iters):\n",
    "            gradient = X.T @ (y * (1- self.sigmoid(y * (X @ self.weights)))) / m\n",
    "            hessian = X.T @ np.diag(np.diag(self.sigmoid(X @ self.weights) * (1 - self.sigmoid(X @ self.weights)).T)) @ X\n",
    "            self.weights += np.linalg.inv(hessian) @ gradient\n",
    "            likelihood_history.append(self.likelihood(X, y))\n",
    "            #print('Iteration: ', i, 'Likelihood: ', likelihood_history[-1])\n",
    "        return likelihood_history\n",
    "    \n",
    "    def fit(self, X, y, method='steepest_ascent'):\n",
    "        X = np.array(X)\n",
    "        y = np.array(y).reshape(-1,1)\n",
    "        self.weights = np.zeros((X.shape[1],1))\n",
    "        if method == 'steepest_ascent':\n",
    "            likelihood_history = self.steepest_ascent(X, y)\n",
    "        else:\n",
    "            likelihood_history = self.newtown_method(X, y)\n",
    "        #likelihood_history = self.steepest_ascent(X, y)\n",
    "        return likelihood_history\n",
    "    \n",
    "    def predict(self, X):\n",
    "        X = np.array(X)\n",
    "        y_pred = self.sigmoid(np.dot(X, self.weights)).squeeze()\n",
    "        return pd.Series((y_pred >= 0.5).astype(int)* 2 - 1)\n",
    "    \n",
    "    def accuracy(self, y_true, y_pred):\n",
    "        y_true = pd.Series(y_true)\n",
    "        y_pred = pd.Series(y_pred.squeeze())\n",
    "        return np.sum(y_true == y_pred) / len(y_true)\n",
    "    \n",
    "    def confusion_matrix(self, y_true, y_pred):\n",
    "        y_true = pd.Series(y_true)\n",
    "        y_pred = pd.Series(y_pred.squeeze())\n",
    "        TP = ((y_true == 1) & (y_pred == 1)).sum()\n",
    "        TN = ((y_true == -1) & (y_pred == -1)).sum()\n",
    "        FP = ((y_true == -1) & (y_pred == 1)).sum()\n",
    "        FN = ((y_true == 1) & (y_pred == -1)).sum()\n",
    "        return TP, TN, FP, FN"
   ]
  },
  {
   "cell_type": "code",
   "execution_count": 27,
   "metadata": {},
   "outputs": [],
   "source": [
    "X_train = pd.concat(data_split[:0] + data_split[0+1:]).iloc[:, :-1]\n",
    "y_train = pd.concat(data_split[:0] + data_split[0+1:]).iloc[:, -1]\n",
    "X_test = data_split[0].iloc[:, :-1].reset_index(drop=True)\n",
    "y_test = data_split[0].iloc[:, -1].reset_index(drop=True)"
   ]
  },
  {
   "cell_type": "code",
   "execution_count": 28,
   "metadata": {},
   "outputs": [
    {
     "name": "stdout",
     "output_type": "stream",
     "text": [
      "(4140, 55)\n",
      "(4140,)\n",
      "(460, 55)\n",
      "(460,)\n"
     ]
    }
   ],
   "source": [
    "print(X_train.shape)\n",
    "print(y_train.shape)\n",
    "print(X_test.shape)\n",
    "print(y_test.shape)"
   ]
  },
  {
   "cell_type": "code",
   "execution_count": 29,
   "metadata": {},
   "outputs": [
    {
     "name": "stdout",
     "output_type": "stream",
     "text": [
      "0.8760869565217392\n",
      "TP:  148 TN:  255 FP:  11 FN:  46\n"
     ]
    }
   ],
   "source": [
    "model = LogisticRegression(learning_rate=0.01/4600, n_iters=100)\n",
    "model.fit(X_train, y_train, method='newtown_method')\n",
    "y_pred = model.predict(X_test)\n",
    "print(model.accuracy(y_test, y_pred))\n",
    "TP, TN, FP, FN = model.confusion_matrix(y_test, y_pred)\n",
    "print('TP: ', TP, 'TN: ', TN, 'FP: ', FP, 'FN: ', FN)\n"
   ]
  },
  {
   "cell_type": "code",
   "execution_count": 30,
   "metadata": {},
   "outputs": [
    {
     "name": "stdout",
     "output_type": "stream",
     "text": [
      "          Predicted 0  Predicted 1\n",
      "Actual 0         2619          168\n",
      "Actual 1          165         1648\n",
      "Prediction Accuracy:  0.927608695652174\n"
     ]
    }
   ],
   "source": [
    "TP, TN, FP, FN = 0, 0, 0, 0\n",
    "likelihood = []\n",
    "for i in range(10):\n",
    "    X_train = pd.concat(data_split[:i] + data_split[i+1:]).iloc[:, :-1]\n",
    "    y_train = pd.concat(data_split[:i] + data_split[i+1:]).iloc[:, -1]\n",
    "    X_test = data_split[i].iloc[:, :-1].reset_index(drop=True)\n",
    "    y_test = data_split[i].iloc[:, -1].reset_index(drop=True)\n",
    "    model = LogisticRegression()\n",
    "    likelihood.append(model.fit(X_train, y_train))\n",
    "    y_pred = model.predict(X_test)\n",
    "    _TP,_TN,_FP,_FN = model.confusion_matrix(y_test, y_pred)\n",
    "    \n",
    "    TP += _TP\n",
    "    TN += _TN\n",
    "    FP += _FP\n",
    "    FN += _FN\n",
    "    \n",
    "    \n",
    "TOTAL = TP + TN + FP + FN\n",
    "cm = pd.DataFrame([[TN, FP],[FN, TP]], columns=['Predicted 0', 'Predicted 1'], index=['Actual 0', 'Actual 1'])\n",
    "print(cm)\n",
    "print('Prediction Accuracy: ', (TP + TN)/TOTAL)"
   ]
  },
  {
   "cell_type": "code",
   "execution_count": 31,
   "metadata": {},
   "outputs": [
    {
     "name": "stdout",
     "output_type": "stream",
     "text": [
      "[-2144.8992804936615, -1964.2547914655654, -1846.8472987082976, -1762.1483726064503, -1697.111920933814, -1644.9374378595048, -1601.7459549268976, -1565.1388498520782, -1533.5443233283504, -1505.8799848007138, -1481.3711784049572, -1459.4457807160786, -1439.6701231357965, -1421.7081687871014, -1405.2945655699186, -1390.2163195319351, -1376.3000040916368, -1363.4026278300062, -1351.4049811583607, -1340.2067003272068, -1329.7225451423292, -1319.879550067733, -1310.6148142304937, -1301.8737658783707, -1293.6087840726284, -1285.7780928065688, -1278.3448653333385, -1271.2764924702965, -1264.54398011066, -1258.1214495001618, -1251.9857199579699, -1246.1159582721127, -1240.493382419047, -1235.1010098518998, -1229.9234425897366, -1224.9466828765462, -1220.1579743759617, -1215.545664808315, -1211.0990866809382, -1206.8084533558197, -1202.6647681745753, -1198.6597447447934, -1194.7857368036773, -1191.03567632951, -1187.4030187804046, -1183.8816945121116, -1180.4660655694124, -1177.1508871644264, -1173.9312732544208, -1170.802665714994, -1167.760806674619, -1164.8017136357983, -1161.9216570583167, -1159.1171401228385, -1156.384880429551, -1153.721793417792, -1151.1249773193745, -1148.5916994813992, -1146.1193839142302, -1143.7055999375273, -1141.3480518121619, -1139.0445692588096, -1136.7930987753225, -1134.591695674852, -1132.4385167753292, -1130.3318136784783, -1128.2699265831934, -1126.251278583958, -1124.2743704101463, -1122.337775566617, -1120.4401358400273, -1118.5801571388824, -1116.756605638514, -1114.9683042049892, -1113.2141290744876, -1111.4930067669106, -1109.8039112144993, -1108.145861088028, -1106.5179173047509, -1104.9191807037141, -1103.3487898753417, -1101.8059191333768, -1100.2897766182919, -1098.7996025222446, -1097.334667426499, -1095.894270743005, -1094.4777392525311, -1093.0844257323733, -1091.713707667247, -1090.3649860374676, -1089.0376841790303, -1087.7312467106026, -1086.445138522851, -1085.178843825876, -1083.9318652508578, -1082.703723002312, -1081.493954057627, -1080.302111410805, -1079.1277633575598, -1077.970492819127, -1076.8298967023434, -1075.7055852937199, -1074.597181685405, -1073.5043212310725, -1072.426651029916, -1071.3638294370526, -1070.315525598759, -1069.2814190110644, -1068.2611991003355, -1067.2545648245639, -1066.2612242941743, -1065.2808944112223, -1064.3133005259526, -1063.3581761097307, -1062.4152624434416, -1061.484308320498, -1060.5650697636572, -1059.6573097548935, -1058.7607979776262, -1057.8753105706364, -1057.0006298930573, -1056.1365442998494, -1055.282847927217, -1054.4393404874465, -1053.6058270726853, -1052.7821179671992, -1051.9680284676874, -1051.1633787112364, -1050.3679935105454, -1049.581702196051, -1048.8043384646194, -1048.0357402344798, -1047.2757495061005, -1046.5242122287166, -1045.7809781722433, -1045.0459008043163, -1044.318837172219, -1043.5996477894637, -1042.8881965268179, -1042.1843505075599, -1041.4879800067802, -1040.7989583545354, -1040.1171618426847, -1039.442469635244, -1038.7747636820961, -1038.1139286359125, -1037.4598517721424, -1036.8124229119362, -1036.1715343478727, -1035.5370807723748, -1034.9089592086893, -1034.2870689443312, -1033.6713114668785, -1033.0615904020276, -1032.457811453806, -1031.859882346859, -1031.2677127707211, -1030.6812143259922, -1030.10030047234, -1029.5248864782557, -1028.9548893724896, -1028.3902278971034, -1027.830822462072, -1027.2765951013737, -1026.7274694305102, -1026.1833706054042, -1025.6442252826146, -1025.1099615808248, -1024.5805090435504, -1024.0557986030249, -1023.5357625452134, -1023.0203344759155, -1022.5094492879164, -1022.0030431291462, -1021.5010533718106, -1021.0034185824569, -1020.5100784929434, -1020.0209739722765, -1019.5360469992859, -1019.0552406361085, -1018.5784990024501, -1018.1057672506009, -1017.636991541174, -1017.1721190195453, -1016.7110977929693, -1016.2538769083466, -1015.8004063306216, -1015.3506369217905, -1014.904520420494, -1014.462009422183, -1014.023057359829, -1013.5876184851691, -1013.1556478504625, -1012.7271012907454, -1012.3019354065643, -1011.8801075471761, -1011.4615757941976, -1011.04629894569, -1010.6342365006656, -1010.2253486440027, -1009.8195962317559, -1009.4169407768495, -1009.0173444351417, -1008.6207699918484, -1008.2271808483167, -1007.8365410091349, -1007.4488150695703, -1007.0639682033257, -1006.6819661506026, -1006.3027752064651, -1005.926362209491, -1005.5526945307075, -1005.1817400627978, -1004.8134672095733, -1004.4478448757045, -1004.0848424566987, -1003.7244298291239, -1003.3665773410667, -1003.0112558028187, -1002.6584364777864, -1002.3080910736169, -1001.960191733534, -1001.614711027878, -1001.271621945844, -1000.9308978874143, -1000.5925126554771, -1000.2564404481291, -999.9226558511539, -999.5911338306755, -999.2618497259776, -998.934779242488, -998.6098984449211, -998.287183750576, -997.9666119227854, -997.6481600645102, -997.331805612079, -997.0175263290646, -996.7053003002975, -996.395105926011, -996.0869219161143, -995.7807272845928, -995.4765013440275, -995.1742237002359, -994.8738742470273, -994.5754331610727, -994.2788808968824, -993.9841981818934, -993.6913660116593, -993.4003656451446, -993.1111786001164, -992.8237866486346, -992.5381718126354, -992.2543163596088, -991.9722027983642, -991.6918138748863, -991.4131325682752, -991.1361420867688, -990.8608258638509, -990.5871675544347, -990.315151031127, -990.0447603805669, -989.7759798998392, -989.5087940929598, -989.2431876674327, -988.9791455308745, -988.7166527877073, -988.4556947359183, -988.1962568638812, -987.9383248472425, -987.6818845458693, -987.426922000855, -987.1734234315857, -986.921375232863, -986.6707639720828, -986.4215763864681, -986.1737993803563, -985.927420022539, -985.6824255436508, -985.4388033336102, -985.1965409391087, -984.9556260611464, -984.716046552616, -984.4777904159318, -984.2408458007023, -984.0052010014485, -983.7708444553625, -983.5377647401098, -983.3059505716715, -983.0753908022268, -982.8460744180743, -982.6179905375918, -982.3911284092335, -982.1654774095632, -981.9410270413252, -981.717766931548, -981.4956868296832, -981.2747766057792, -981.0550262486859, -980.8364258642929, -980.6189656737988, -980.4026360120114, -980.1874273256781, -979.9733301718463, -979.7603352162523, -979.5484332317382, -979.3376150966985, -979.1278717935514, -978.9191944072388, -978.7115741237513, -978.5050022286795, -978.2994701057896, -978.0949692356245, -977.8914911941285, -977.6890276512956, -977.4875703698409, -977.2871112038948, -977.0876420977194, -976.8891550844467, -976.691642284838, -976.4950959060645, -976.299508240508, -976.1048716645819, -975.9111786375722, -975.7184217004976, -975.5265934749883, -975.3356866621832, -975.1456940416467, -974.9566084703017, -974.7684228813811, -974.581130283396, -974.394723759121, -974.2091964645964, -974.0245416281455, -973.8407525494092, -973.6578225983953, -973.4757452145433, -973.294513905804, -973.1141222477354, -972.9345638826101, -972.7558325185396, -972.5779219286113, -972.4008259500397, -972.2245384833305, -972.0490534914578, -971.8743649990552, -971.7004670916178, -971.5273539147196, -971.3550196732396, -971.1834586306023, -971.0126651080296, -970.8426334838033, -970.6733581925403, -970.5048337244775, -970.3370546247698, -970.1700154927962, -970.003710981478, -969.8381357966082, -969.6732846961886, -969.5091524897798, -969.3457340378582, -969.1830242511851, -969.0210180901843, -968.8597105643282, -968.6990967315344, -968.5391716975707, -968.3799306154688, -968.2213686849472, -968.0634811518418, -967.9062633075462, -967.7497104884585, -967.5938180754379, -967.4385814932681, -967.283996210129, -967.1300577370764, -966.976761627528, -966.8241034767592, -966.6720789214027, -966.5206836389593, -966.3699133473128, -966.2197638042525, -966.0702308070036, -965.9213101917628, -965.7729978332422, -965.6252896442179, -965.4781815750857, -965.3316696134239, -965.1857497835613, -965.040418146151, -964.8956707977514, -964.7515038704122, -964.6079135312656, -964.4648959821246, -964.3224474590868, -964.1805642321415, -964.0392426047846, -963.8984789136387, -963.7582695280764, -963.6186108498512, -963.4794993127316, -963.3409313821414, -963.202903554804, -963.0654123583925, -962.9284543511835, -962.7920261217163, -962.6561242884566, -962.5207454994642, -962.3858864320661, -962.2515437925327, -962.1177143157603, -961.9843947649547, -961.8515819313226, -961.7192726337648, -961.5874637185738, -961.4561520591355, -961.3253345556359, -961.1950081347696, -961.0651697494538, -960.9358163785456, -960.8069450265623, -960.6785527234064, -960.5506365240935, -960.4231935084838, -960.2962207810176, -960.1697154704527, -960.0436747296078, -959.9180957351064, -959.7929756871257, -959.668311809148, -959.5441013477162, -959.4203415721906, -959.297029774511, -959.17416326896, -959.0517393919299, -958.9297555016938, -958.8082089781767, -958.6870972227326, -958.5664176579222, -958.4461677272946, -958.3263448951707, -958.2069466464309, -958.0879704863033, -957.9694139401563, -957.8512745532928, -957.7335498907476, -957.6162375370861, -957.4993350962077, -957.3828401911487, -957.26675046389, -957.1510635751661, -957.0357772042765, -956.9208890488994, -956.806396824908, -956.6922982661885, -956.5785911244602, -956.4652731690995, -956.3523421869628, -956.2397959822147, -956.1276323761559, -956.0158492070555, -955.904444329982, -955.7934156166405, -955.6827609552081, -955.5724782501729, -955.4625654221751, -955.3530204078497, -955.2438411596704, -955.1350256457968, -955.0265718499213, -954.9184777711205, -954.8107414237047, -954.7033608370739, -954.5963340555707, -954.4896591383376, -954.3833341591762, -954.2773572064062, -954.1717263827277, -954.0664398050837, -953.9614956045264, -953.8568919260812, -953.752626928617, -953.6486987847138, -953.5451056805348, -953.4418458156977, -953.3389174031493, -953.2363186690402, -953.1340478526018, -953.032103206024, -952.9304829943346, -952.8291854952803, -952.7282089992086, -952.6275518089511, -952.5272122397083, -952.4271886189358, -952.3274792862308, -952.2280825932215, -952.1289969034565, -952.0302205922958, -951.9317520468019, -951.8335896656349, -951.7357318589463, -951.6381770482743, -951.5409236664404, -951.4439701574486, -951.3473149763827, -951.2509565893083, -951.1548934731724, -951.0591241157067, -950.9636470153309, -950.8684606810564, -950.7735636323926, -950.6789543992522, -950.5846315218605, -950.4905935506621, -950.396839046231, -950.3033665791806, -950.2101747300765, -950.1172620893464, -950.0246272571956, -949.9322688435195, -949.8401854678198, -949.7483757591195, -949.6568383558808, -949.5655719059214, -949.4745750663344, -949.3838465034073, -949.2933848925417, -949.2031889181751, -949.1132572737024, -949.0235886613993, -948.9341817923449, -948.8450353863466, -948.7561481718652, -948.6675188859408, -948.5791462741187, -948.4910290903783, -948.4031660970602, -948.3155560647947, -948.2281977724327, -948.1410900069752, -948.0542315635046, -947.9676212451157, -947.8812578628497, -947.7951402356261, -947.7092671901768, -947.6236375609806, -947.5382501901984, -947.4531039276092, -947.3681976305459, -947.2835301638333, -947.1991003997248, -947.1149072178416, -947.0309495051113, -946.9472261557069, -946.8637360709884, -946.7804781594418, -946.6974513366221, -946.6146545250938, -946.5320866543746, -946.4497466608775, -946.3676334878548, -946.2857460853429, -946.2040834101058, -946.1226444255815, -946.041428101827, -945.9604334154656, -945.8796593496322, -945.7991048939227, -945.7187690443401, -945.6386508032439, -945.5587491792988, -945.4790631874241, -945.3995918487434, -945.3203341905348, -945.2412892461829, -945.1624560551284, -945.0838336628213, -945.0054211206723, -944.9272174860062, -944.849221822014, -944.7714331977079, -944.6938506878744, -944.6164733730288, -944.5393003393708, -944.4623306787387, -944.3855634885665, -944.308997871839, -944.2326329370492, -944.1564677981546, -944.0805015745352, -944.004733390951, -943.9291623775, -943.8537876695777, -943.7786084078348, -943.7036237381378, -943.6288328115276, -943.5542347841806, -943.4798288173688, -943.4056140774204, -943.3315897356815, -943.2577549684772, -943.1841089570742, -943.1106508876421, -943.0373799512172, -942.9642953436644, -942.8913962656413, -942.8186819225613, -942.7461515245581, -942.6738042864494, -942.6016394277021, -942.5296561723972, -942.4578537491946, -942.3862313912989, -942.314788336426, -942.2435238267681, -942.1724371089613, -942.1015274340516, -942.0307940574628, -941.960236238963, -941.8898532426332, -941.8196443368349, -941.7496087941781, -941.6797458914905, -941.6100549097857, -941.5405351342329, -941.4711858541261, -941.4020063628533, -941.3329959578673, -941.2641539406551, -941.1954796167091, -941.1269722954971, -941.058631290434, -940.9904559188527, -940.9224455019753, -940.8545993648853, -940.7869168364996, -940.7193972495404, -940.6520399405081, -940.5848442496538, -940.5178095209521, -940.4509351020747, -940.3842203443633, -940.3176646028039, -940.2512672360006, -940.1850276061484, -940.1189450790102, -940.0530190238886, -939.9872488136024, -939.9216338244609, -939.8561734362393, -939.7908670321542, -939.7257139988395, -939.6607137263213, -939.5958656079947, -939.5311690406004, -939.4666234242, -939.402228162154, -939.3379826610976, -939.2738863309182, -939.209938584733, -939.1461388388653, -939.0824865128236, -939.0189810292783, -938.9556218140405, -938.8924082960392, -938.829339907301, -938.7664160829275, -938.7036362610747, -938.6409998829316, -938.5785063926994, -938.5161552375708, -938.4539458677094, -938.3918777362295, -938.3299502991754, -938.2681630155017, -938.2065153470537, -938.145006758547, -938.0836367175484, -938.0224046944563, -937.9613101624819, -937.9003525976295, -937.8395314786778, -937.7788462871615, -937.718296507352, -937.6578816262396, -937.5976011335149, -937.5374545215507, -937.4774412853837, -937.4175609226972, -937.357812933803, -937.2981968216236, -937.2387120916756, -937.1793582520513, -937.1201348134027, -937.0610412889234, -937.0020771943325, -936.9432420478579, -936.8845353702186, -936.8259566846098, -936.7675055166853, -936.7091813945422, -936.6509838487038, -936.5929124121051, -936.5349666200752, -936.4771460103234, -936.4194501229222, -936.3618785002925, -936.3044306871884, -936.2471062306817, -936.1899046801467, -936.1328255872457, -936.0758685059141, -936.0190329923448, -935.9623186049749, -935.9057249044704, -935.8492514537118, -935.7928978177802, -935.7366635639427, -935.6805482616389, -935.6245514824668, -935.5686728001681, -935.5129117906163, -935.457268031801, -935.4017411038159, -935.3463305888449, -935.2910360711487, -935.2358571370517, -935.1807933749287, -935.1258443751926, -935.0710097302804, -935.0162890346417, -934.9616818847244, -934.9071878789641, -934.8528066177698, -934.7985377035127, -934.7443807405127, -934.6903353350275, -934.6364010952398, -934.582577631245, -934.52886455504, -934.4752614805107, -934.4217680234204, -934.3683838013987, -934.3151084339288, -934.2619415423371, -934.2088827497814, -934.155931681239, -934.1030879634964, -934.0503512251378, -933.9977210965333, -933.9451972098295, -933.8927791989372, -933.840466699521, -933.7882593489888, -933.7361567864809, -933.6841586528594, -933.6322645906979, -933.5804742442709, -933.5287872595434, -933.4772032841611, -933.4257219674395, -933.3743429603542, -933.3230659155307, -933.271890487235, -933.2208163313627, -933.1698431054299, -933.1189704685634, -933.0681980814904, -933.0175256065302, -932.966952707583, -932.9164790501219, -932.8661043011823, -932.8158281293535, -932.7656502047693, -932.7155701990979, -932.6655877855342, -932.6157026387896, -932.5659144350833, -932.5162228521339, -932.4666275691498, -932.4171282668208, -932.367724627309, -932.318416334241, -932.2692030726982, -932.220084529209, -932.1710603917395, -932.1221303496866, -932.0732940938675, -932.0245513165137, -931.9759017112606, -931.9273449731409, -931.8788807985756, -931.8305088853663, -931.7822289326873, -931.7340406410767, -931.6859437124303, -931.6379378499917, -931.5900227583456, -931.542198143411, -931.494463712431, -931.4468191739675, -931.3992642378926, -931.351798615381, -931.304422018903, -931.257134162217, -931.2099347603616, -931.1628235296489, -931.1158001876571, -931.0688644532229, -931.0220160464348, -930.9752546886261, -930.928580102367, -930.8819920114588, -930.8354901409257, -930.7890742170089, -930.7427439671591, -930.6964991200298, -930.6503394054707, -930.6042645545214, -930.558274299403, -930.5123683735142, -930.4665465114215, -930.420808448856, -930.3751539227039, -930.3295826710023, -930.2840944329313, -930.2386889488084, -930.1933659600819, -930.148125209325, -930.102966440229, -930.057889397597, -930.012893827339, -929.967979476464, -929.9231460930755, -929.8783934263644, -929.8337212266035, -929.7891292451415, -929.7446172343969, -929.7001849478524, -929.6558321400491, -929.6115585665802, -929.567363984086, -929.5232481502476, -929.4792108237809, -929.4352517644325, -929.3913707329723, -929.3475674911888, -929.3038418018839, -929.2601934288668, -929.2166221369482, -929.1731276919364, -929.1297098606301, -929.0863684108143, -929.0431031112546, -928.9999137316918, -928.9568000428367, -928.9137618163651, -928.8707988249124, -928.8279108420686, -928.7850976423733, -928.74235900131, -928.6996946953022, -928.6571045017072, -928.6145881988116, -928.572145565827, -928.5297763828842, -928.4874804310284, -928.4452574922149, -928.4031073493037, -928.3610297860553, -928.3190245871255, -928.2770915380606, -928.2352304252934, -928.1934410361375, -928.1517231587836, -928.1100765822948, -928.0685010966012, -928.026996492496, -927.9855625616312, -927.9441990965126, -927.902905890496, -927.8616827377814, -927.8205294334107, -927.7794457732612, -927.7384315540428, -927.697486573293, -927.6566106293727, -927.6158035214617, -927.5750650495552, -927.5343950144587, -927.4937932177845, -927.4532594619473, -927.4127935501597, -927.372395286429, -927.332064475552, -927.2918009231121, -927.2516044354743, -927.2114748197816, -927.1714118839511, -927.1314154366701, -927.0914852873918, -927.0516212463322, -927.0118231244646, -926.9720907335179, -926.932423885971, -926.8928223950501, -926.8532860747241, -926.8138147397015, -926.7744082054261, -926.735066288074, -926.6957888045492, -926.6565755724805, -926.617426410217, -926.5783411368259, -926.539319572087, -926.5003615364914, -926.4614668512354, -926.4226353382195, -926.3838668200431, -926.3451611200012, -926.306518062082, -926.2679374709624, -926.2294191720051, -926.1909629912549, -926.1525687554354, -926.1142362919458, -926.0759654288572, -926.0377559949098, -925.999607819509, -925.9615207327225, -925.9234945652771, -925.8855291485552, -925.8476243145915, -925.8097798960699, -925.7719957263207, -925.7342716393171, -925.6966074696713, -925.6590030526334, -925.6214582240857, -925.5839728205417, -925.5465466791418, -925.5091796376512, -925.4718715344557, -925.4346222085596, -925.3974314995827, -925.3602992477562, -925.3232252939214, -925.2862094795255, -925.2492516466191, -925.212351637853, -925.1755092964761, -925.1387244663315, -925.1019969918541, -925.065326718068, -925.0287134905836, -924.9921571555938, -924.9556575598729, -924.919214550772, -924.8828279762181, -924.8464976847099, -924.8102235253152, -924.7740053476696, -924.7378430019719, -924.7017363389821, -924.6656852100194, -924.629689466959, -924.5937489622295, -924.5578635488097, -924.5220330802272, -924.4862574105548, -924.4505363944086, -924.4148698869446, -924.3792577438574, -924.3436998213758, -924.3081959762626, -924.2727460658101, -924.2373499478388, -924.2020074806942, -924.1667185232449, -924.13148293488, -924.0963005755059, -924.0611713055455, -924.0260949859342, -923.991071478118, -923.956100644052, -923.9211823461966, -923.886316447516, -923.8515028114759, -923.8167413020408, -923.7820317836718, -923.7473741213241, -923.7127681804457, -923.6782138269737, -923.6437109273329, -923.6092593484334, -923.5748589576683]\n"
     ]
    }
   ],
   "source": [
    "print(likelihood[i][:-5])"
   ]
  },
  {
   "cell_type": "code",
   "execution_count": 32,
   "metadata": {},
   "outputs": [
    {
     "data": {
      "image/png": "[encoded data removed]",
      "text/plain": [
       "<Figure size 1000x600 with 1 Axes>"
      ]
     },
     "metadata": {},
     "output_type": "display_data"
    }
   ],
   "source": [
    "fig = plt.figure(figsize=(10, 6))\n",
    "for i in range(10):\n",
    "    plt.plot(likelihood[i], label='Fold {}'.format(i+1))\n",
    "plt.legend()\n",
    "plt.xlabel('Iteration')\n",
    "plt.ylabel('Likelihood')\n",
    "plt.show()"
   ]
  },
  {
   "attachments": {},
   "cell_type": "markdown",
   "metadata": {},
   "source": [
    "## Problem 2.d"
   ]
  },
  {
   "cell_type": "code",
   "execution_count": 33,
   "metadata": {},
   "outputs": [
    {
     "name": "stdout",
     "output_type": "stream",
     "text": [
      "          Predicted 0  Predicted 1\n",
      "Actual 0         2653          134\n",
      "Actual 1          398         1415\n",
      "Prediction Accuracy:  0.8843478260869565\n"
     ]
    }
   ],
   "source": [
    "TP, TN, FP, FN = 0, 0, 0, 0\n",
    "likelihood = []\n",
    "for i in range(10):\n",
    "    X_train = pd.concat(data_split[:i] + data_split[i+1:]).iloc[:, :-1]\n",
    "    y_train = pd.concat(data_split[:i] + data_split[i+1:]).iloc[:, -1]\n",
    "    X_test = data_split[i].iloc[:, :-1].reset_index(drop=True)\n",
    "    y_test = data_split[i].iloc[:, -1].reset_index(drop=True)\n",
    "    model = LogisticRegression(n_iters=100)\n",
    "    likelihood.append(model.fit(X_train, y_train, method='newtown_method'))\n",
    "    y_pred = model.predict(X_test)\n",
    "    _TP,_TN,_FP,_FN = model.confusion_matrix(y_test, y_pred)\n",
    "    \n",
    "    TP += _TP\n",
    "    TN += _TN\n",
    "    FP += _FP\n",
    "    FN += _FN\n",
    "    \n",
    "    \n",
    "TOTAL = TP + TN + FP + FN\n",
    "cm = pd.DataFrame([[TN, FP],[FN, TP]], columns=['Predicted 0', 'Predicted 1'], index=['Actual 0', 'Actual 1'])\n",
    "print(cm)\n",
    "print('Prediction Accuracy: ', (TP + TN)/TOTAL)"
   ]
  },
  {
   "cell_type": "code",
   "execution_count": 34,
   "metadata": {},
   "outputs": [
    {
     "data": {
      "text/plain": [
       "[-2869.05591879353,\n",
       " -2868.4827869892606,\n",
       " -2867.9099318613025,\n",
       " -2867.3373531659,\n",
       " -2866.7650506595983,\n",
       " -2866.193024099247,\n",
       " -2865.621273241999,\n",
       " -2865.0497978453095,\n",
       " -2864.4785976669355,\n",
       " -2863.907672464936,\n",
       " -2863.3370219976687,\n",
       " -2862.766646023796,\n",
       " -2862.1965443022773,\n",
       " -2861.6267165923723,\n",
       " -2861.0571626536407,\n",
       " -2860.4878822459405,\n",
       " -2859.918875129427,\n",
       " -2859.350141064556,\n",
       " -2858.7816798120775,\n",
       " -2858.2134911330413,\n",
       " -2857.6455747887912,\n",
       " -2857.0779305409696,\n",
       " -2856.5105581515118,\n",
       " -2855.94345738265,\n",
       " -2855.3766279969113,\n",
       " -2854.8100697571167,\n",
       " -2854.243782426379,\n",
       " -2853.6777657681077,\n",
       " -2853.112019546003,\n",
       " -2852.5465435240585,\n",
       " -2851.9813374665587,\n",
       " -2851.4164011380817,\n",
       " -2850.8517343034946,\n",
       " -2850.287336727957,\n",
       " -2849.723208176917,\n",
       " -2849.1593484161144,\n",
       " -2848.5957572115763,\n",
       " -2848.0324343296206,\n",
       " -2847.4693795368526,\n",
       " -2846.9065926001667,\n",
       " -2846.344073286744,\n",
       " -2845.7818213640517,\n",
       " -2845.2198365998465,\n",
       " -2844.6581187621705,\n",
       " -2844.0966676193502,\n",
       " -2843.5354829399985,\n",
       " -2842.9745644930144,\n",
       " -2842.41391204758,\n",
       " -2841.8535253731625,\n",
       " -2841.2934042395113,\n",
       " -2840.7335484166624,\n",
       " -2840.1739576749305,\n",
       " -2839.614631784916,\n",
       " -2839.0555705175,\n",
       " -2838.4967736438457,\n",
       " -2837.938240935396,\n",
       " -2837.379972163878,\n",
       " -2836.821967101295,\n",
       " -2836.2642255199326,\n",
       " -2835.7067471923556,\n",
       " -2835.1495318914076,\n",
       " -2834.5925793902115,\n",
       " -2834.0358894621677,\n",
       " -2833.4794618809547,\n",
       " -2832.9232964205285,\n",
       " -2832.367392855121,\n",
       " -2831.811750959243,\n",
       " -2831.256370507679,\n",
       " -2830.701251275492,\n",
       " -2830.146393038016,\n",
       " -2829.5917955708655,\n",
       " -2829.0374586499247,\n",
       " -2828.483382051355,\n",
       " -2827.9295655515893,\n",
       " -2827.376008927336,\n",
       " -2826.822711955574,\n",
       " -2826.269674413556,\n",
       " -2825.7168960788076,\n",
       " -2825.1643767291243,\n",
       " -2824.612116142573,\n",
       " -2824.060114097493,\n",
       " -2823.508370372492,\n",
       " -2822.9568847464507,\n",
       " -2822.405656998515,\n",
       " -2821.8546869081038,\n",
       " -2821.3039742549036,\n",
       " -2820.753518818869,\n",
       " -2820.2033203802225,\n",
       " -2819.6533787194558,\n",
       " -2819.103693617325,\n",
       " -2818.5542648548553,\n",
       " -2818.005092213338,\n",
       " -2817.4561754743295,\n",
       " -2816.907514419652,\n",
       " -2816.359108831395]"
      ]
     },
     "execution_count": 34,
     "metadata": {},
     "output_type": "execute_result"
    }
   ],
   "source": [
    "likelihood[0][:-5]"
   ]
  },
  {
   "cell_type": "code",
   "execution_count": 35,
   "metadata": {},
   "outputs": [
    {
     "data": {
      "image/png": "[encoded data removed]",
      "text/plain": [
       "<Figure size 1000x600 with 1 Axes>"
      ]
     },
     "metadata": {},
     "output_type": "display_data"
    }
   ],
   "source": [
    "fig = plt.figure(figsize=(10, 6))\n",
    "for i in range(10):\n",
    "    plt.plot(likelihood[i], label='Fold {}'.format(i+1))\n",
    "plt.legend()\n",
    "plt.xlabel('Iteration')\n",
    "plt.ylabel('Likelihood')\n",
    "plt.show()"
   ]
  }
 ],
 "metadata": {
  "kernelspec": {
   "display_name": "Python 3",
   "language": "python",
   "name": "python3"
  },
  "language_info": {
   "codemirror_mode": {
    "name": "ipython",
    "version": 3
   },
   "file_extension": ".py",
   "mimetype": "text/x-python",
   "name": "python",
   "nbconvert_exporter": "python",
   "pygments_lexer": "ipython3",
   "version": "3.9.12"
  },
  "orig_nbformat": 4,
  "vscode": {
   "interpreter": {
    "hash": "b0fa6594d8f4cbf19f97940f81e996739fb7646882a419484c72d19e05852a7e"
   }
  }
 },
 "nbformat": 4,
 "nbformat_minor": 2
}
