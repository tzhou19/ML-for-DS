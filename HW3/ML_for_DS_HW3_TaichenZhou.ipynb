{
 "cells": [
  {
   "cell_type": "code",
   "execution_count": 1,
   "metadata": {},
   "outputs": [],
   "source": [
    "import numpy as np\n",
    "import pandas as pd\n",
    "import matplotlib.pyplot as plt"
   ]
  },
  {
   "cell_type": "markdown",
   "metadata": {},
   "source": [
    "### Problem1"
   ]
  },
  {
   "cell_type": "code",
   "execution_count": 20,
   "metadata": {},
   "outputs": [
    {
     "name": "stdout",
     "output_type": "stream",
     "text": [
      "(95000, 3)\n",
      "(5000, 3)\n",
      "(1682, 1)\n"
     ]
    }
   ],
   "source": [
    "train = pd.read_csv('../HW3/hw3-data/ratings_train.csv', header=None)\n",
    "train.columns = ['user_id', 'movie_id', 'rating']\n",
    "test = pd.read_csv('../HW3/hw3-data/ratings_test.csv', header=None)\n",
    "test.columns = ['user_id', 'movie_id', 'rating']\n",
    "movie = pd.read_csv('../HW3/hw3-data/movies.txt', header=None, sep='\\n')\n",
    "movie.columns = ['movie_name']\n",
    "movie.head(10)\n",
    "print(train.shape)\n",
    "print(test.shape)\n",
    "print(movie.shape)"
   ]
  },
  {
   "cell_type": "code",
   "execution_count": 19,
   "metadata": {},
   "outputs": [],
   "source": []
  },
  {
   "cell_type": "code",
   "execution_count": 52,
   "metadata": {},
   "outputs": [
    {
     "name": "stdout",
     "output_type": "stream",
     "text": [
      "Number of users:  943\n",
      "Number of movies:  1682\n"
     ]
    }
   ],
   "source": [
    "SIGMA = 0.25\n",
    "D = 10\n",
    "LAMBDA = 1\n",
    "N_1 = 943\n",
    "N_2 = 1682\n",
    "print(\"Number of users: \", N_1)\n",
    "print(\"Number of movies: \", N_2)\n"
   ]
  },
  {
   "cell_type": "code",
   "execution_count": 39,
   "metadata": {},
   "outputs": [],
   "source": [
    "test_M = np.empty(shape = (N_1, N_2))\n",
    "test_M.fill(np.nan)\n",
    "for index, row in train.iterrows():\n",
    "    user_id = int(row['user_id']) - 1\n",
    "    movie_id = int(row['movie_id']) - 1\n",
    "    test_M[user_id][movie_id] = row['rating']"
   ]
  },
  {
   "cell_type": "code",
   "execution_count": 56,
   "metadata": {},
   "outputs": [
    {
     "data": {
      "text/plain": [
       "[0, 4, 6, 8, 14, 16, 49, 52, 55, 97]"
      ]
     },
     "execution_count": 56,
     "metadata": {},
     "output_type": "execute_result"
    }
   ],
   "source": [
    "u_i = test_M[20]\n",
    "u_i_index = [i for i, v in enumerate(u_i) if ~np.isnan(v)]\n",
    "u_i_index[:10]"
   ]
  },
  {
   "cell_type": "code",
   "execution_count": 63,
   "metadata": {},
   "outputs": [
    {
     "data": {
      "text/plain": [
       "array([[0., 0., 0., 0., 0., 0., 0., 0., 0., 0.],\n",
       "       [0., 0., 0., 0., 0., 0., 0., 0., 0., 0.],\n",
       "       [0., 0., 0., 0., 0., 0., 0., 0., 0., 0.],\n",
       "       [0., 0., 0., 0., 0., 0., 0., 0., 0., 0.],\n",
       "       [0., 0., 0., 0., 0., 0., 0., 0., 0., 0.],\n",
       "       [0., 0., 0., 0., 0., 0., 0., 0., 0., 0.],\n",
       "       [0., 0., 0., 0., 0., 0., 0., 0., 0., 0.],\n",
       "       [0., 0., 0., 0., 0., 0., 0., 0., 0., 0.],\n",
       "       [0., 0., 0., 0., 0., 0., 0., 0., 0., 0.],\n",
       "       [0., 0., 0., 0., 0., 0., 0., 0., 0., 0.]])"
      ]
     },
     "execution_count": 63,
     "metadata": {},
     "output_type": "execute_result"
    }
   ],
   "source": [
    "np.zeros((10,10))"
   ]
  },
  {
   "cell_type": "code",
   "execution_count": 69,
   "metadata": {},
   "outputs": [
    {
     "data": {
      "text/plain": [
       "[0, 4, 6, 8, 14, 16, 49, 52, 55, 97]"
      ]
     },
     "execution_count": 69,
     "metadata": {},
     "output_type": "execute_result"
    }
   ],
   "source": [
    "u_i_index = [i for i, v in enumerate(test_M[:][20]) if ~np.isnan(v)]\n",
    "u_i_index[:10]"
   ]
  },
  {
   "cell_type": "code",
   "execution_count": 85,
   "metadata": {},
   "outputs": [
    {
     "name": "stdout",
     "output_type": "stream",
     "text": [
      "[[0.35152532 0.43773289]\n",
      " [0.59923295 0.48560044]\n",
      " [0.07273571 0.34622945]]\n",
      "[0.56140906 0.77128978 0.35378711]\n"
     ]
    },
    {
     "data": {
      "text/plain": [
       "-1.6864859427736443"
      ]
     },
     "execution_count": 85,
     "metadata": {},
     "output_type": "execute_result"
    }
   ],
   "source": [
    "test = np.random.rand(3,2)\n",
    "print(test)\n",
    "print(np.linalg.norm(test, axis = 1))\n",
    "-np.sum(np.linalg.norm(test, axis = 1))"
   ]
  },
  {
   "cell_type": "code",
   "execution_count": 106,
   "metadata": {},
   "outputs": [
    {
     "name": "stdout",
     "output_type": "stream",
     "text": [
      "(1, 10)\n"
     ]
    }
   ],
   "source": [
    "test_1 = np.random.rand(1,10)\n",
    "test_2 = np.random.rand(1,10)\n",
    "print((test_1+test_2).shape)"
   ]
  },
  {
   "cell_type": "code",
   "execution_count": 116,
   "metadata": {},
   "outputs": [
    {
     "data": {
      "text/plain": [
       "(10, 1)"
      ]
     },
     "execution_count": 116,
     "metadata": {},
     "output_type": "execute_result"
    }
   ],
   "source": [
    "np.random.rand(1,10).reshape(10,1).shape"
   ]
  },
  {
   "cell_type": "code",
   "execution_count": 121,
   "metadata": {},
   "outputs": [],
   "source": [
    "class matrix_factorization:\n",
    "    def __init__(self, n_1, n_2, d, n_iterations = 100) -> None:\n",
    "        self.n_1 = n_1\n",
    "        self.n_2 = n_2\n",
    "        self.d = d\n",
    "        self.n_iterations = n_iterations\n",
    "        self.u = np.random.normal(0, LAMBDA, size = (n_1, self.d)) # n_1 x d\n",
    "        self.v = np.random.normal(0, LAMBDA, size = (n_2, self.d)) # n_2 x d\n",
    "\n",
    "\n",
    "    def init_M(self, X):\n",
    "        M = np.empty(shape = (self.n_1, self.n_2))\n",
    "        M.fill(np.nan)\n",
    "        pair_list = []\n",
    "        for index, row in X.iterrows():\n",
    "            user_id = int(row['user_id']) - 1\n",
    "            movie_id = int(row['movie_id']) - 1\n",
    "            M[user_id][movie_id] = row['rating']\n",
    "            pair_list.append((user_id, movie_id))\n",
    "        return M, pair_list\n",
    "        \n",
    "    def fit(self, X):\n",
    "        self.M, self.pair = self.init_M(X)\n",
    "        log_likelihood_list = []\n",
    "        \n",
    "        for iter in range(self.n_iterations):\n",
    "            u_temp = self.u.copy()\n",
    "            v_temp = self.v.copy()\n",
    "            for i in range(self.n_1):\n",
    "                omega_i = [idx for idx, v in enumerate(self.M[i]) if ~np.isnan(v)]\n",
    "                v_square = np.zeros((self.d, self.d)) # d x d\n",
    "                M_v = np.zeros((self.d, 1)) # d x 1\n",
    "                for oi in omega_i:\n",
    "                    v_square += v_temp[oi].T@v_temp[oi] # d x 1 @ 1 x d\n",
    "                    M_v = M_v + self.M[i][oi]*v_temp[oi].reshape(self.d, 1) # d x 1\n",
    "                #  1 x d  = 1 x d @ d x d\n",
    "                # print(M_v.T.shape)\n",
    "                # print(np.linalg.inv((LAMBDA*SIGMA*np.eye(D)) + v_square).shape)\n",
    "                self.u[i] = M_v.T @ np.linalg.inv((LAMBDA*SIGMA*np.eye(D)) + v_square)\n",
    "            \n",
    "            for j in range(self.n_2):\n",
    "                omega_j = [idx for idx, v in enumerate(self.M[:][j]) if ~np.isnan(v)]\n",
    "                u_square = np.zeros((self.d, self.d)) # d x d\n",
    "                M_u = np.zeros((self.d, 1)) # d x 1\n",
    "                for oj in omega_j:\n",
    "                    u_square += u_temp[oj].T@u_temp[oj] # d x 1 @ 1 x d\n",
    "                    M_u = M_u + self.M[oj][j]*u_temp[oj].reshape(self.d, 1) # d x 1\n",
    "                #  1 x d  = 1 x d @ d x d\n",
    "                self.v[i] = M_u.T @ np.linalg.inv((LAMBDA*SIGMA*np.eye(D)) + u_square)\n",
    "\n",
    "            log_likelihood_list += self.log_likelihood()\n",
    "\n",
    "    def log_likelihood(self):\n",
    "        part1 = 0\n",
    "        for user_i, movie_j in self.pair:\n",
    "            part1 += np.square(self.M[user_i][movie_j] - self.u[user_i]@self.v[movie_j].T)/(2*SIGMA)\n",
    "        part2 = np.sum(np.linalg.norm(self.u, axis = 1))\n",
    "        part3 = np.sum(np.linalg.norm(self.v, axis = 1))\n",
    "        return -part1-part2-part3"
   ]
  },
  {
   "cell_type": "code",
   "execution_count": 122,
   "metadata": {},
   "outputs": [
    {
     "ename": "IndexError",
     "evalue": "index 943 is out of bounds for axis 0 with size 943",
     "output_type": "error",
     "traceback": [
      "\u001b[0;31m---------------------------------------------------------------------------\u001b[0m",
      "\u001b[0;31mIndexError\u001b[0m                                Traceback (most recent call last)",
      "\u001b[0;32m/var/folders/8r/sf09gm417452y_p81bzf8kp00000gn/T/ipykernel_48045/3656074083.py\u001b[0m in \u001b[0;36m<module>\u001b[0;34m\u001b[0m\n\u001b[1;32m      1\u001b[0m \u001b[0mmf_model\u001b[0m \u001b[0;34m=\u001b[0m \u001b[0mmatrix_factorization\u001b[0m\u001b[0;34m(\u001b[0m\u001b[0mN_1\u001b[0m\u001b[0;34m,\u001b[0m \u001b[0mN_2\u001b[0m\u001b[0;34m,\u001b[0m \u001b[0mD\u001b[0m\u001b[0;34m,\u001b[0m \u001b[0;36m100\u001b[0m\u001b[0;34m)\u001b[0m\u001b[0;34m\u001b[0m\u001b[0;34m\u001b[0m\u001b[0m\n\u001b[0;32m----> 2\u001b[0;31m \u001b[0mmf_model\u001b[0m\u001b[0;34m.\u001b[0m\u001b[0mfit\u001b[0m\u001b[0;34m(\u001b[0m\u001b[0mtrain\u001b[0m\u001b[0;34m)\u001b[0m\u001b[0;34m\u001b[0m\u001b[0;34m\u001b[0m\u001b[0m\n\u001b[0m",
      "\u001b[0;32m/var/folders/8r/sf09gm417452y_p81bzf8kp00000gn/T/ipykernel_48045/3556090437.py\u001b[0m in \u001b[0;36mfit\u001b[0;34m(self, X)\u001b[0m\n\u001b[1;32m     44\u001b[0m                 \u001b[0mM_u\u001b[0m \u001b[0;34m=\u001b[0m \u001b[0mnp\u001b[0m\u001b[0;34m.\u001b[0m\u001b[0mzeros\u001b[0m\u001b[0;34m(\u001b[0m\u001b[0;34m(\u001b[0m\u001b[0mself\u001b[0m\u001b[0;34m.\u001b[0m\u001b[0md\u001b[0m\u001b[0;34m,\u001b[0m \u001b[0;36m1\u001b[0m\u001b[0;34m)\u001b[0m\u001b[0;34m)\u001b[0m \u001b[0;31m# d x 1\u001b[0m\u001b[0;34m\u001b[0m\u001b[0;34m\u001b[0m\u001b[0m\n\u001b[1;32m     45\u001b[0m                 \u001b[0;32mfor\u001b[0m \u001b[0moj\u001b[0m \u001b[0;32min\u001b[0m \u001b[0momega_j\u001b[0m\u001b[0;34m:\u001b[0m\u001b[0;34m\u001b[0m\u001b[0;34m\u001b[0m\u001b[0m\n\u001b[0;32m---> 46\u001b[0;31m                     \u001b[0mu_square\u001b[0m \u001b[0;34m+=\u001b[0m \u001b[0mu_temp\u001b[0m\u001b[0;34m[\u001b[0m\u001b[0moj\u001b[0m\u001b[0;34m]\u001b[0m\u001b[0;34m.\u001b[0m\u001b[0mT\u001b[0m\u001b[0;34m@\u001b[0m\u001b[0mu_temp\u001b[0m\u001b[0;34m[\u001b[0m\u001b[0moj\u001b[0m\u001b[0;34m]\u001b[0m \u001b[0;31m# d x 1 @ 1 x d\u001b[0m\u001b[0;34m\u001b[0m\u001b[0;34m\u001b[0m\u001b[0m\n\u001b[0m\u001b[1;32m     47\u001b[0m                     \u001b[0mM_u\u001b[0m \u001b[0;34m=\u001b[0m \u001b[0mM_u\u001b[0m \u001b[0;34m+\u001b[0m \u001b[0mself\u001b[0m\u001b[0;34m.\u001b[0m\u001b[0mM\u001b[0m\u001b[0;34m[\u001b[0m\u001b[0moj\u001b[0m\u001b[0;34m]\u001b[0m\u001b[0;34m[\u001b[0m\u001b[0mj\u001b[0m\u001b[0;34m]\u001b[0m\u001b[0;34m*\u001b[0m\u001b[0mu_temp\u001b[0m\u001b[0;34m[\u001b[0m\u001b[0moj\u001b[0m\u001b[0;34m]\u001b[0m\u001b[0;34m.\u001b[0m\u001b[0mreshape\u001b[0m\u001b[0;34m(\u001b[0m\u001b[0mself\u001b[0m\u001b[0;34m.\u001b[0m\u001b[0md\u001b[0m\u001b[0;34m,\u001b[0m \u001b[0;36m1\u001b[0m\u001b[0;34m)\u001b[0m \u001b[0;31m# d x 1\u001b[0m\u001b[0;34m\u001b[0m\u001b[0;34m\u001b[0m\u001b[0m\n\u001b[1;32m     48\u001b[0m                 \u001b[0;31m#  1 x d  = 1 x d @ d x d\u001b[0m\u001b[0;34m\u001b[0m\u001b[0;34m\u001b[0m\u001b[0;34m\u001b[0m\u001b[0m\n",
      "\u001b[0;31mIndexError\u001b[0m: index 943 is out of bounds for axis 0 with size 943"
     ]
    }
   ],
   "source": [
    "mf_model = matrix_factorization(N_1, N_2, D, 100)\n",
    "mf_model.fit(train)"
   ]
  },
  {
   "cell_type": "code",
   "execution_count": null,
   "metadata": {},
   "outputs": [],
   "source": []
  }
 ],
 "metadata": {
  "kernelspec": {
   "display_name": "Python 3.8.5 64-bit",
   "language": "python",
   "name": "python3"
  },
  "language_info": {
   "codemirror_mode": {
    "name": "ipython",
    "version": 3
   },
   "file_extension": ".py",
   "mimetype": "text/x-python",
   "name": "python",
   "nbconvert_exporter": "python",
   "pygments_lexer": "ipython3",
   "version": "3.8.5"
  },
  "orig_nbformat": 4,
  "vscode": {
   "interpreter": {
    "hash": "aee8b7b246df8f9039afb4144a1f6fd8d2ca17a180786b69acc140d282b71a49"
   }
  }
 },
 "nbformat": 4,
 "nbformat_minor": 2
}
